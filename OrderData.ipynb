{
 "cells": [
  {
   "cell_type": "markdown",
   "metadata": {},
   "source": [
    "# Imports"
   ]
  },
  {
   "cell_type": "code",
   "execution_count": 1,
   "metadata": {},
   "outputs": [],
   "source": [
    "# Import standard libraries\n",
    "import pandas as pd\n",
    "import seaborn as sns\n",
    "import numpy as np\n",
    "import matplotlib.pyplot as plt\n",
    "%matplotlib inline\n",
    "\n",
    "# API\n",
    "import requests\n",
    "import snowflake.connector\n",
    "\n",
    "# Date\n",
    "import datetime as dt\n",
    "import time\n",
    "from datetime import timedelta"
   ]
  },
  {
   "cell_type": "code",
   "execution_count": 2,
   "metadata": {},
   "outputs": [],
   "source": [
    "# # # Gets the cursor\n",
    "# con = snowflake.connector.connect(\n",
    "#     user='meagan',\n",
    "#     password='',\n",
    "#     account='hu40871.us-east-1',\n",
    "#     warehouse='ANALYSIS'\n",
    "#     )\n",
    "\n",
    "# cur = con.cursor()\n",
    "\n",
    "# # insert query here\n",
    "# cur.execute('''\n",
    "#     SELECT  * \n",
    "#     FROM    \"WAREHOUSE\".\"GOLD\".\"SUBSCRIPTION_RETENTION\"\n",
    "#            ''')\n",
    "\n",
    "# df=cur.fetch_pandas_all()\n",
    "# df.head()\n",
    "\n",
    "silver = pd.read_csv('Acuity.csv')\n",
    "sub_2018 = pd.read_csv('2018.csv')\n",
    "sub_20191 = pd.read_csv('2019-1.csv')\n",
    "sub_20192 = pd.read_csv('2019-2.csv')\n",
    "sub_2020 = pd.read_csv('2020.csv')\n",
    "sub_2021 = pd.read_csv('2021.csv')"
   ]
  },
  {
   "cell_type": "markdown",
   "metadata": {},
   "source": [
    "## Acuity"
   ]
  },
  {
   "cell_type": "code",
   "execution_count": 3,
   "metadata": {},
   "outputs": [
    {
     "data": {
      "text/plain": [
       "(24545, 20)"
      ]
     },
     "execution_count": 3,
     "metadata": {},
     "output_type": "execute_result"
    }
   ],
   "source": [
    "# Create a copy of the DB\n",
    "silver_acuity = silver.copy()\n",
    "silver_acuity.shape"
   ]
  },
  {
   "cell_type": "code",
   "execution_count": 4,
   "metadata": {},
   "outputs": [
    {
     "data": {
      "text/plain": [
       "appointment_changed        18189\n",
       "appointment_scheduled       5220\n",
       "appointment_rescheduled      705\n",
       "appointment_canceled         431\n",
       "Name: EVENT, dtype: int64"
      ]
     },
     "execution_count": 4,
     "metadata": {},
     "output_type": "execute_result"
    }
   ],
   "source": [
    "# Change dates to datetime Dtype\n",
    "silver_acuity['APPOINTMENT_BODY_DATE'] = pd.to_datetime(silver_acuity['APPOINTMENT_BODY_DATE'])\n",
    "\n",
    "# Drop unneeded columns\n",
    "silver_acuity.drop(columns=['EVENT_TS', 'EVENT_TS_UTC', 'ANONYMOUS_ID','APPOINTMENT_BODY_FIRST_NAME',\n",
    "       'APPOINTMENT_BODY_DATETIME_CREATED', 'APPOINTMENT_BODY_CALENDAR_ID','APPOINTMENT_BODY_CALENDAR_TIMEZONE',\\\n",
    "                    'APPOINTMENT_BODY_TIMEZONE', 'APPOINTMENT_BODY_LAST_NAME', 'APPOINTMENT_BODY_ID',\\\n",
    "                    'APPOINTMENT_BODY_NO_SHOW', \\\n",
    "                    'APPOINTMENT_TYPE_ID'], inplace=True)\n",
    "\n",
    "silver_acuity['EVENT'].value_counts()"
   ]
  },
  {
   "cell_type": "code",
   "execution_count": 5,
   "metadata": {
    "scrolled": true
   },
   "outputs": [
    {
     "data": {
      "text/plain": [
       "appointment_scheduled    5105\n",
       "Name: EVENT, dtype: int64"
      ]
     },
     "execution_count": 5,
     "metadata": {},
     "output_type": "execute_result"
    }
   ],
   "source": [
    "# drop irrelevant appointments\n",
    "na_dict= {'appointment_canceled' : np.nan,\n",
    "'appointment_changed' : np.nan,\n",
    "'appointment_rescheduled' : np.nan}\n",
    "\n",
    "silver_acuity['EVENT'].replace(na_dict, inplace = True)\n",
    "silver_acuity.dropna(inplace = True)\n",
    "silver_acuity['EVENT'].value_counts()"
   ]
  },
  {
   "cell_type": "code",
   "execution_count": 6,
   "metadata": {},
   "outputs": [
    {
     "data": {
      "text/plain": [
       "False    5104\n",
       "True        1\n",
       "Name: APPOINTMENT_BODY_CANCELED, dtype: int64"
      ]
     },
     "execution_count": 6,
     "metadata": {},
     "output_type": "execute_result"
    }
   ],
   "source": [
    "silver_acuity['APPOINTMENT_BODY_CANCELED'].value_counts()"
   ]
  },
  {
   "cell_type": "code",
   "execution_count": 7,
   "metadata": {},
   "outputs": [
    {
     "data": {
      "text/plain": [
       "Hair Consultation                      4297\n",
       "Hair Mineral Analysis Appointment       599\n",
       "Follow Up Consultation                  143\n",
       "Customer consultation                    58\n",
       "Case Study                                5\n",
       "Hair Mineral Analysis - Acquisition       3\n",
       "Name: APPOINTMENT_BODY_TYPE, dtype: int64"
      ]
     },
     "execution_count": 7,
     "metadata": {},
     "output_type": "execute_result"
    }
   ],
   "source": [
    "silver_acuity['APPOINTMENT_BODY_TYPE'].value_counts()"
   ]
  },
  {
   "cell_type": "code",
   "execution_count": 8,
   "metadata": {},
   "outputs": [
    {
     "data": {
      "text/plain": [
       "Hair Consultation                    4297\n",
       "Hair Mineral Analysis Appointment     599\n",
       "Name: APPOINTMENT_BODY_TYPE, dtype: int64"
      ]
     },
     "execution_count": 8,
     "metadata": {},
     "output_type": "execute_result"
    }
   ],
   "source": [
    "# drop irrelevant appointments\n",
    "na_dict= {'Hair Mineral Analysis - Acquisition':np.nan,\n",
    "          'Follow Up Consultation':np.nan,\n",
    "          'Customer consultation':np.nan,\n",
    "          'Case Study':np.nan}\n",
    "\n",
    "silver_acuity['APPOINTMENT_BODY_TYPE'].replace(na_dict, inplace = True)\n",
    "silver_acuity.dropna(inplace = True)\n",
    "silver_acuity['APPOINTMENT_BODY_TYPE'].value_counts()"
   ]
  },
  {
   "cell_type": "code",
   "execution_count": 9,
   "metadata": {},
   "outputs": [
    {
     "data": {
      "text/plain": [
       "(4896, 8)"
      ]
     },
     "execution_count": 9,
     "metadata": {},
     "output_type": "execute_result"
    }
   ],
   "source": [
    "silver_acuity.shape"
   ]
  },
  {
   "cell_type": "code",
   "execution_count": 10,
   "metadata": {},
   "outputs": [
    {
     "data": {
      "text/plain": [
       "True     4241\n",
       "False     655\n",
       "Name: Complete, dtype: int64"
      ]
     },
     "execution_count": 10,
     "metadata": {},
     "output_type": "execute_result"
    }
   ],
   "source": [
    "#Round to the day\n",
    "silver_acuity['APPOINTMENT_BODY_DATE'] = silver_acuity['APPOINTMENT_BODY_DATE'].dt.round('D')\n",
    "\n",
    "silver_acuity['Today'] = pd.Timestamp('today')\n",
    "silver_acuity['Today'] = silver_acuity['Today'].dt.round('D')\n",
    "\n",
    "silver_acuity['Complete'] = (silver_acuity['Today']>silver_acuity['APPOINTMENT_BODY_DATE'])\n",
    "silver_acuity['Complete'].value_counts()"
   ]
  },
  {
   "cell_type": "code",
   "execution_count": 11,
   "metadata": {
    "scrolled": true
   },
   "outputs": [
    {
     "data": {
      "text/plain": [
       "True    4241\n",
       "Name: Complete, dtype: int64"
      ]
     },
     "execution_count": 11,
     "metadata": {},
     "output_type": "execute_result"
    }
   ],
   "source": [
    "# Remove appointments in the future\n",
    "silver_acuity['Complete'] = silver_acuity['Complete'].astype('str')\n",
    "\n",
    "# drop irrelevant appointments\n",
    "na_dict= {'False' : np.nan}\n",
    "\n",
    "silver_acuity['Complete'].replace(na_dict, inplace = True)\n",
    "silver_acuity.dropna(inplace = True)\n",
    "silver_acuity['Complete'].value_counts()"
   ]
  },
  {
   "cell_type": "code",
   "execution_count": 12,
   "metadata": {},
   "outputs": [
    {
     "data": {
      "image/png": "[encoded data removed]",
      "text/plain": [
       "<Figure size 1440x432 with 1 Axes>"
      ]
     },
     "metadata": {
      "needs_background": "light"
     },
     "output_type": "display_data"
    }
   ],
   "source": [
    "# Group by event, for a visual only \n",
    "chart = silver_acuity.groupby([\"APPOINTMENT_BODY_DATE\"]).agg({'EVENT':'count'})\n",
    "chart.isna().sum()\n",
    "\n",
    "chart.plot(kind='bar',figsize=(20,6))\n",
    "plt.title(\"Appointment Date\", size= 24)\n",
    "plt.show()"
   ]
  },
  {
   "cell_type": "code",
   "execution_count": 13,
   "metadata": {},
   "outputs": [
    {
     "data": {
      "text/plain": [
       "<matplotlib.legend.Legend at 0x7fab282fe510>"
      ]
     },
     "execution_count": 13,
     "metadata": {},
     "output_type": "execute_result"
    },
    {
     "data": {
      "image/png": "[encoded data removed]",
      "text/plain": [
       "<Figure size 432x288 with 1 Axes>"
      ]
     },
     "metadata": {
      "needs_background": "light"
     },
     "output_type": "display_data"
    }
   ],
   "source": [
    "(silver_acuity.groupby([silver_acuity['APPOINTMENT_BODY_DATE'].dt.dayofweek,\\\n",
    "                       silver_acuity['APPOINTMENT_BODY_DATE'].dt.year])\\\n",
    " ['EVENT'].count()).unstack().plot(kind='line')\n",
    "plt.legend(loc='center left', bbox_to_anchor=(1.0, 0.5))"
   ]
  },
  {
   "cell_type": "code",
   "execution_count": 14,
   "metadata": {},
   "outputs": [
    {
     "data": {
      "text/plain": [
       "Timestamp('2020-01-26 00:00:00')"
      ]
     },
     "execution_count": 14,
     "metadata": {},
     "output_type": "execute_result"
    }
   ],
   "source": [
    "min(silver_acuity['APPOINTMENT_BODY_DATE'])"
   ]
  },
  {
   "cell_type": "code",
   "execution_count": 15,
   "metadata": {},
   "outputs": [
    {
     "data": {
      "text/plain": [
       "Hair Consultation                    3724\n",
       "Hair Mineral Analysis Appointment     517\n",
       "Name: APPOINTMENT_BODY_TYPE, dtype: int64"
      ]
     },
     "execution_count": 15,
     "metadata": {},
     "output_type": "execute_result"
    }
   ],
   "source": [
    "silver_acuity['APPOINTMENT_BODY_TYPE'].value_counts()"
   ]
  },
  {
   "cell_type": "code",
   "execution_count": 16,
   "metadata": {
    "scrolled": false
   },
   "outputs": [
    {
     "name": "stdout",
     "output_type": "stream",
     "text": [
      "unique emails =  3665\n"
     ]
    }
   ],
   "source": [
    "#QA instances\n",
    "smail = silver_acuity['EMAIL'].nunique()\n",
    "print ('unique emails = ',smail)"
   ]
  },
  {
   "cell_type": "code",
   "execution_count": 17,
   "metadata": {},
   "outputs": [
    {
     "data": {
      "text/plain": [
       "(3665, 3)"
      ]
     },
     "execution_count": 17,
     "metadata": {},
     "output_type": "execute_result"
    }
   ],
   "source": [
    "clean_acuity = silver_acuity.groupby('EMAIL').agg({\"APPOINTMENT_BODY_DATE\":'min',\\\n",
    "                                'APPOINTMENT_BODY_TYPE':'last',\\\n",
    "                                'APPOINTMENT_BODY_CALENDAR':'last'\\\n",
    "                               })\n",
    "clean_acuity.shape"
   ]
  },
  {
   "cell_type": "markdown",
   "metadata": {},
   "source": [
    "## SUB"
   ]
  },
  {
   "cell_type": "code",
   "execution_count": 4,
   "metadata": {},
   "outputs": [
    {
     "name": "stdout",
     "output_type": "stream",
     "text": [
      "total (1373086, 7)\n",
      "1 (731229, 7)\n",
      "2 (641857, 7)\n"
     ]
    }
   ],
   "source": [
    "sub_2019=pd.merge(sub_20191,sub_20192,how='outer')\n",
    "print('total',sub_2019.shape)\n",
    "print('1',sub_20191.shape)\n",
    "print('2',sub_20192.shape)\n",
    "\n",
    "# Change dates to datetime \n",
    "sub_2018['FIRST_ORDER_AT'] = pd.to_datetime(sub_2018['FIRST_ORDER_AT'])\n",
    "sub_2019['FIRST_ORDER_AT'] = pd.to_datetime(sub_2019['FIRST_ORDER_AT'])\n",
    "sub_2020['FIRST_ORDER_AT'] = pd.to_datetime(sub_2020['FIRST_ORDER_AT'])\n",
    "sub_2021['FIRST_ORDER_AT'] = pd.to_datetime(sub_2021['FIRST_ORDER_AT'])"
   ]
  },
  {
   "cell_type": "code",
   "execution_count": 5,
   "metadata": {},
   "outputs": [
    {
     "name": "stdout",
     "output_type": "stream",
     "text": [
      "2018 =  (614903, 7)\n",
      "2018 unique emails =  18970\n",
      "2019 =  (1373086, 7)\n",
      "2019 unique emails =  57184\n",
      "2020 =  (727153, 7)\n",
      "2020 unique emails =  82292\n",
      "2021 =  (29623, 7)\n",
      "2021 unique emails =  15563\n"
     ]
    }
   ],
   "source": [
    "# min(gold['FIRST_ORDER_AT'])\n",
    "# max(gold['FIRST_ORDER_AT'])\n",
    "\n",
    "s18 = sub_2018.shape\n",
    "email18 = sub_2018['EMAIL'].nunique()\n",
    "print ('2018 = ',s18)\n",
    "print ('2018 unique emails = ',email18)\n",
    "\n",
    "s19 = sub_2019.shape\n",
    "email19 = sub_2019['EMAIL'].nunique()\n",
    "print ('2019 = ',s19)\n",
    "print ('2019 unique emails = ',email19)\n",
    "\n",
    "s20 = sub_2020.shape\n",
    "email20 = sub_2020['EMAIL'].nunique()\n",
    "print ('2020 = ',s20)\n",
    "print ('2020 unique emails = ',email20)\n",
    "\n",
    "s21 = sub_2021.shape\n",
    "email21 = sub_2021['EMAIL'].nunique()\n",
    "print ('2021 = ',s21)\n",
    "print ('2021 unique emails = ',email21)"
   ]
  },
  {
   "cell_type": "code",
   "execution_count": 6,
   "metadata": {},
   "outputs": [
    {
     "data": {
      "text/plain": [
       "(18970, 6)"
      ]
     },
     "execution_count": 6,
     "metadata": {},
     "output_type": "execute_result"
    }
   ],
   "source": [
    "# Aggregate\n",
    "df18 = sub_2018.groupby('EMAIL').agg({\"FIRST_ORDER_AT\":'min',\\\n",
    "                                'TOTAL_ORDER_VALUE':'mean',\\\n",
    "                                'TOTAL_ORDERS':'mean'\\\n",
    "                                ,'ITEM_GENDER':'last',\\\n",
    "                                'ITEM_SUB_TYPE':'last',\\\n",
    "                                'ITEM_PRODUCT_CORE_CATEGORY':'last'\\\n",
    "                               })\n",
    "df18.shape"
   ]
  },
  {
   "cell_type": "code",
   "execution_count": 7,
   "metadata": {},
   "outputs": [
    {
     "data": {
      "text/plain": [
       "(57184, 6)"
      ]
     },
     "execution_count": 7,
     "metadata": {},
     "output_type": "execute_result"
    }
   ],
   "source": [
    "# Aggregate\n",
    "df19 = sub_2019.groupby('EMAIL').agg({\"FIRST_ORDER_AT\":'min',\\\n",
    "                                'TOTAL_ORDER_VALUE':'mean',\\\n",
    "                                'TOTAL_ORDERS':'mean'\\\n",
    "                                ,'ITEM_GENDER':'last',\\\n",
    "                                'ITEM_SUB_TYPE':'last',\\\n",
    "                                'ITEM_PRODUCT_CORE_CATEGORY':'last'\\\n",
    "                               })\n",
    "df19.shape"
   ]
  },
  {
   "cell_type": "code",
   "execution_count": 8,
   "metadata": {},
   "outputs": [
    {
     "data": {
      "text/plain": [
       "(82292, 6)"
      ]
     },
     "execution_count": 8,
     "metadata": {},
     "output_type": "execute_result"
    }
   ],
   "source": [
    "# Aggregate\n",
    "df20 = sub_2020.groupby('EMAIL').agg({\"FIRST_ORDER_AT\":'min',\\\n",
    "                                'TOTAL_ORDER_VALUE':'mean',\\\n",
    "                                'TOTAL_ORDERS':'mean'\\\n",
    "                                ,'ITEM_GENDER':'last',\\\n",
    "                                'ITEM_SUB_TYPE':'last',\\\n",
    "                                'ITEM_PRODUCT_CORE_CATEGORY':'last'\\\n",
    "                               })\n",
    "df20.shape"
   ]
  },
  {
   "cell_type": "code",
   "execution_count": 9,
   "metadata": {},
   "outputs": [
    {
     "data": {
      "text/plain": [
       "(15563, 6)"
      ]
     },
     "execution_count": 9,
     "metadata": {},
     "output_type": "execute_result"
    }
   ],
   "source": [
    "# Aggregate\n",
    "df21 = sub_2021.groupby('EMAIL').agg({\"FIRST_ORDER_AT\":'min',\\\n",
    "                                'TOTAL_ORDER_VALUE':'mean',\\\n",
    "                                'TOTAL_ORDERS':'mean'\\\n",
    "                                ,'ITEM_GENDER':'last',\\\n",
    "                                'ITEM_SUB_TYPE':'last',\\\n",
    "                                'ITEM_PRODUCT_CORE_CATEGORY':'last'\\\n",
    "                               })\n",
    "df21.shape"
   ]
  },
  {
   "cell_type": "code",
   "execution_count": 10,
   "metadata": {},
   "outputs": [
    {
     "data": {
      "text/html": [
       "<div>\n",
       "<style scoped>\n",
       "    .dataframe tbody tr th:only-of-type {\n",
       "        vertical-align: middle;\n",
       "    }\n",
       "\n",
       "    .dataframe tbody tr th {\n",
       "        vertical-align: top;\n",
       "    }\n",
       "\n",
       "    .dataframe thead th {\n",
       "        text-align: right;\n",
       "    }\n",
       "</style>\n",
       "<table border=\"1\" class=\"dataframe\">\n",
       "  <thead>\n",
       "    <tr style=\"text-align: right;\">\n",
       "      <th></th>\n",
       "      <th>TOTAL_ORDER_VALUE</th>\n",
       "      <th>TOTAL_ORDERS</th>\n",
       "    </tr>\n",
       "  </thead>\n",
       "  <tbody>\n",
       "    <tr>\n",
       "      <th>count</th>\n",
       "      <td>18970.000000</td>\n",
       "      <td>18970.000000</td>\n",
       "    </tr>\n",
       "    <tr>\n",
       "      <th>mean</th>\n",
       "      <td>1128.418274</td>\n",
       "      <td>13.886821</td>\n",
       "    </tr>\n",
       "    <tr>\n",
       "      <th>std</th>\n",
       "      <td>699.363207</td>\n",
       "      <td>8.466934</td>\n",
       "    </tr>\n",
       "    <tr>\n",
       "      <th>min</th>\n",
       "      <td>0.000000</td>\n",
       "      <td>1.000000</td>\n",
       "    </tr>\n",
       "    <tr>\n",
       "      <th>25%</th>\n",
       "      <td>569.000000</td>\n",
       "      <td>7.000000</td>\n",
       "    </tr>\n",
       "    <tr>\n",
       "      <th>50%</th>\n",
       "      <td>959.000000</td>\n",
       "      <td>12.000000</td>\n",
       "    </tr>\n",
       "    <tr>\n",
       "      <th>75%</th>\n",
       "      <td>1616.150000</td>\n",
       "      <td>20.000000</td>\n",
       "    </tr>\n",
       "    <tr>\n",
       "      <th>max</th>\n",
       "      <td>7926.000000</td>\n",
       "      <td>94.000000</td>\n",
       "    </tr>\n",
       "  </tbody>\n",
       "</table>\n",
       "</div>"
      ],
      "text/plain": [
       "       TOTAL_ORDER_VALUE  TOTAL_ORDERS\n",
       "count       18970.000000  18970.000000\n",
       "mean         1128.418274     13.886821\n",
       "std           699.363207      8.466934\n",
       "min             0.000000      1.000000\n",
       "25%           569.000000      7.000000\n",
       "50%           959.000000     12.000000\n",
       "75%          1616.150000     20.000000\n",
       "max          7926.000000     94.000000"
      ]
     },
     "execution_count": 10,
     "metadata": {},
     "output_type": "execute_result"
    }
   ],
   "source": [
    "df18.describe()"
   ]
  },
  {
   "cell_type": "code",
   "execution_count": 11,
   "metadata": {},
   "outputs": [
    {
     "data": {
      "text/html": [
       "<div>\n",
       "<style scoped>\n",
       "    .dataframe tbody tr th:only-of-type {\n",
       "        vertical-align: middle;\n",
       "    }\n",
       "\n",
       "    .dataframe tbody tr th {\n",
       "        vertical-align: top;\n",
       "    }\n",
       "\n",
       "    .dataframe thead th {\n",
       "        text-align: right;\n",
       "    }\n",
       "</style>\n",
       "<table border=\"1\" class=\"dataframe\">\n",
       "  <thead>\n",
       "    <tr style=\"text-align: right;\">\n",
       "      <th></th>\n",
       "      <th>TOTAL_ORDER_VALUE</th>\n",
       "      <th>TOTAL_ORDERS</th>\n",
       "    </tr>\n",
       "  </thead>\n",
       "  <tbody>\n",
       "    <tr>\n",
       "      <th>count</th>\n",
       "      <td>57164.000000</td>\n",
       "      <td>57164.000000</td>\n",
       "    </tr>\n",
       "    <tr>\n",
       "      <th>mean</th>\n",
       "      <td>600.802524</td>\n",
       "      <td>7.187163</td>\n",
       "    </tr>\n",
       "    <tr>\n",
       "      <th>std</th>\n",
       "      <td>507.358073</td>\n",
       "      <td>5.830056</td>\n",
       "    </tr>\n",
       "    <tr>\n",
       "      <th>min</th>\n",
       "      <td>-32.000000</td>\n",
       "      <td>1.000000</td>\n",
       "    </tr>\n",
       "    <tr>\n",
       "      <th>25%</th>\n",
       "      <td>198.000000</td>\n",
       "      <td>3.000000</td>\n",
       "    </tr>\n",
       "    <tr>\n",
       "      <th>50%</th>\n",
       "      <td>434.000000</td>\n",
       "      <td>5.000000</td>\n",
       "    </tr>\n",
       "    <tr>\n",
       "      <th>75%</th>\n",
       "      <td>891.000000</td>\n",
       "      <td>11.000000</td>\n",
       "    </tr>\n",
       "    <tr>\n",
       "      <th>max</th>\n",
       "      <td>5688.000000</td>\n",
       "      <td>54.000000</td>\n",
       "    </tr>\n",
       "  </tbody>\n",
       "</table>\n",
       "</div>"
      ],
      "text/plain": [
       "       TOTAL_ORDER_VALUE  TOTAL_ORDERS\n",
       "count       57164.000000  57164.000000\n",
       "mean          600.802524      7.187163\n",
       "std           507.358073      5.830056\n",
       "min           -32.000000      1.000000\n",
       "25%           198.000000      3.000000\n",
       "50%           434.000000      5.000000\n",
       "75%           891.000000     11.000000\n",
       "max          5688.000000     54.000000"
      ]
     },
     "execution_count": 11,
     "metadata": {},
     "output_type": "execute_result"
    }
   ],
   "source": [
    "df19.describe()"
   ]
  },
  {
   "cell_type": "code",
   "execution_count": 12,
   "metadata": {},
   "outputs": [
    {
     "data": {
      "text/html": [
       "<div>\n",
       "<style scoped>\n",
       "    .dataframe tbody tr th:only-of-type {\n",
       "        vertical-align: middle;\n",
       "    }\n",
       "\n",
       "    .dataframe tbody tr th {\n",
       "        vertical-align: top;\n",
       "    }\n",
       "\n",
       "    .dataframe thead th {\n",
       "        text-align: right;\n",
       "    }\n",
       "</style>\n",
       "<table border=\"1\" class=\"dataframe\">\n",
       "  <thead>\n",
       "    <tr style=\"text-align: right;\">\n",
       "      <th></th>\n",
       "      <th>TOTAL_ORDER_VALUE</th>\n",
       "      <th>TOTAL_ORDERS</th>\n",
       "    </tr>\n",
       "  </thead>\n",
       "  <tbody>\n",
       "    <tr>\n",
       "      <th>count</th>\n",
       "      <td>82277.000000</td>\n",
       "      <td>82277.000000</td>\n",
       "    </tr>\n",
       "    <tr>\n",
       "      <th>mean</th>\n",
       "      <td>368.919930</td>\n",
       "      <td>4.458694</td>\n",
       "    </tr>\n",
       "    <tr>\n",
       "      <th>std</th>\n",
       "      <td>259.610407</td>\n",
       "      <td>2.859405</td>\n",
       "    </tr>\n",
       "    <tr>\n",
       "      <th>min</th>\n",
       "      <td>-32.000000</td>\n",
       "      <td>1.000000</td>\n",
       "    </tr>\n",
       "    <tr>\n",
       "      <th>25%</th>\n",
       "      <td>168.000000</td>\n",
       "      <td>2.000000</td>\n",
       "    </tr>\n",
       "    <tr>\n",
       "      <th>50%</th>\n",
       "      <td>306.000000</td>\n",
       "      <td>4.000000</td>\n",
       "    </tr>\n",
       "    <tr>\n",
       "      <th>75%</th>\n",
       "      <td>495.000000</td>\n",
       "      <td>6.000000</td>\n",
       "    </tr>\n",
       "    <tr>\n",
       "      <th>max</th>\n",
       "      <td>3777.000000</td>\n",
       "      <td>61.000000</td>\n",
       "    </tr>\n",
       "  </tbody>\n",
       "</table>\n",
       "</div>"
      ],
      "text/plain": [
       "       TOTAL_ORDER_VALUE  TOTAL_ORDERS\n",
       "count       82277.000000  82277.000000\n",
       "mean          368.919930      4.458694\n",
       "std           259.610407      2.859405\n",
       "min           -32.000000      1.000000\n",
       "25%           168.000000      2.000000\n",
       "50%           306.000000      4.000000\n",
       "75%           495.000000      6.000000\n",
       "max          3777.000000     61.000000"
      ]
     },
     "execution_count": 12,
     "metadata": {},
     "output_type": "execute_result"
    }
   ],
   "source": [
    "df20.describe() "
   ]
  },
  {
   "cell_type": "code",
   "execution_count": 13,
   "metadata": {
    "scrolled": true
   },
   "outputs": [
    {
     "data": {
      "text/html": [
       "<div>\n",
       "<style scoped>\n",
       "    .dataframe tbody tr th:only-of-type {\n",
       "        vertical-align: middle;\n",
       "    }\n",
       "\n",
       "    .dataframe tbody tr th {\n",
       "        vertical-align: top;\n",
       "    }\n",
       "\n",
       "    .dataframe thead th {\n",
       "        text-align: right;\n",
       "    }\n",
       "</style>\n",
       "<table border=\"1\" class=\"dataframe\">\n",
       "  <thead>\n",
       "    <tr style=\"text-align: right;\">\n",
       "      <th></th>\n",
       "      <th>TOTAL_ORDER_VALUE</th>\n",
       "      <th>TOTAL_ORDERS</th>\n",
       "    </tr>\n",
       "  </thead>\n",
       "  <tbody>\n",
       "    <tr>\n",
       "      <th>count</th>\n",
       "      <td>15561.000000</td>\n",
       "      <td>15561.000000</td>\n",
       "    </tr>\n",
       "    <tr>\n",
       "      <th>mean</th>\n",
       "      <td>99.385860</td>\n",
       "      <td>1.190862</td>\n",
       "    </tr>\n",
       "    <tr>\n",
       "      <th>std</th>\n",
       "      <td>55.743408</td>\n",
       "      <td>0.409648</td>\n",
       "    </tr>\n",
       "    <tr>\n",
       "      <th>min</th>\n",
       "      <td>0.000000</td>\n",
       "      <td>1.000000</td>\n",
       "    </tr>\n",
       "    <tr>\n",
       "      <th>25%</th>\n",
       "      <td>79.000000</td>\n",
       "      <td>1.000000</td>\n",
       "    </tr>\n",
       "    <tr>\n",
       "      <th>50%</th>\n",
       "      <td>79.000000</td>\n",
       "      <td>1.000000</td>\n",
       "    </tr>\n",
       "    <tr>\n",
       "      <th>75%</th>\n",
       "      <td>99.000000</td>\n",
       "      <td>1.000000</td>\n",
       "    </tr>\n",
       "    <tr>\n",
       "      <th>max</th>\n",
       "      <td>1864.400000</td>\n",
       "      <td>6.000000</td>\n",
       "    </tr>\n",
       "  </tbody>\n",
       "</table>\n",
       "</div>"
      ],
      "text/plain": [
       "       TOTAL_ORDER_VALUE  TOTAL_ORDERS\n",
       "count       15561.000000  15561.000000\n",
       "mean           99.385860      1.190862\n",
       "std            55.743408      0.409648\n",
       "min             0.000000      1.000000\n",
       "25%            79.000000      1.000000\n",
       "50%            79.000000      1.000000\n",
       "75%            99.000000      1.000000\n",
       "max          1864.400000      6.000000"
      ]
     },
     "execution_count": 13,
     "metadata": {},
     "output_type": "execute_result"
    }
   ],
   "source": [
    "df21.describe()"
   ]
  },
  {
   "cell_type": "code",
   "execution_count": 14,
   "metadata": {},
   "outputs": [],
   "source": [
    "sub1=pd.merge(sub_2019,sub_2018,how='outer')\n",
    "sub2=pd.merge(sub_2020,sub_2021,how='outer')\n",
    "sub3=pd.merge(sub1,sub2,how='outer')"
   ]
  },
  {
   "cell_type": "code",
   "execution_count": 15,
   "metadata": {
    "scrolled": true
   },
   "outputs": [
    {
     "data": {
      "text/plain": [
       "(174009, 6)"
      ]
     },
     "execution_count": 15,
     "metadata": {},
     "output_type": "execute_result"
    }
   ],
   "source": [
    "sub3 = sub3.groupby('EMAIL').agg({\"FIRST_ORDER_AT\":'min',\\\n",
    "                                'TOTAL_ORDER_VALUE':'mean',\\\n",
    "                                'TOTAL_ORDERS':'mean'\\\n",
    "                                ,'ITEM_GENDER':'last',\\\n",
    "                                'ITEM_SUB_TYPE':'last',\\\n",
    "                                'ITEM_PRODUCT_CORE_CATEGORY':'last'\\\n",
    "                               })\n",
    "sub3.shape"
   ]
  },
  {
   "cell_type": "code",
   "execution_count": 19,
   "metadata": {},
   "outputs": [
    {
     "data": {
      "text/plain": [
       "GrowthPlan                                             47413\n",
       "GrowthPlan 3                                           23282\n",
       "GrowthPlan 2                                           10325\n",
       "GrowthPlan,GrowthPlan                                    713\n",
       "GrowthPlan,GrowthPlan 3                                   85\n",
       "GrowthPlan 3,GrowthPlan                                   80\n",
       "GrowthPlan 3,GrowthPlan 3                                 76\n",
       "GrowthPlan,GrowthPlan 2                                   42\n",
       "Non-Sub,GrowthPlan                                        39\n",
       "GrowthPlan,Non-Sub                                        38\n",
       "GrowthPlan 2,GrowthPlan                                   37\n",
       "GrowthPlan 2,GrowthPlan 2                                 31\n",
       "GrowthPlan 2,GrowthPlan 3                                 20\n",
       "GrowthPlan 3,Non-Sub                                      18\n",
       "Non-Sub,GrowthPlan 3                                      17\n",
       "GrowthPlan 3,GrowthPlan 2                                 17\n",
       "GrowthPlan,GrowthPlan,GrowthPlan                          15\n",
       "Prepay 6                                                  13\n",
       "GrowthPlan 2,Non-Sub                                       9\n",
       "Non-Sub,GrowthPlan 2                                       6\n",
       "GrowthPlan,GrowthPlan,GrowthPlan 3                         3\n",
       "GrowthPlan,GrowthPlan 3,GrowthPlan                         2\n",
       "GrowthPlan,Prepay 6                                        1\n",
       "GrowthPlan 3,GrowthPlan,GrowthPlan 2                       1\n",
       "Non-Sub,GrowthPlan 3,GrowthPlan 3                          1\n",
       "GrowthPlan 3,GrowthPlan,GrowthPlan                         1\n",
       "GrowthPlan,GrowthPlan,GrowthPlan 2                         1\n",
       "GrowthPlan 3,Non-Sub,Non-Sub                               1\n",
       "GrowthPlan,GrowthPlan 2,GrowthPlan                         1\n",
       "GrowthPlan 3,GrowthPlan 3,GrowthPlan,GrowthPlan            1\n",
       "GrowthPlan 3,GrowthPlan,GrowthPlan 3,GrowthPlan 3          1\n",
       "GrowthPlan 3,GrowthPlan 3,GrowthPlan 2,GrowthPlan 3        1\n",
       "Name: ITEM_SUB_TYPE, dtype: int64"
      ]
     },
     "execution_count": 19,
     "metadata": {},
     "output_type": "execute_result"
    }
   ],
   "source": [
    "df20.ITEM_SUB_TYPE.value_counts()"
   ]
  },
  {
   "cell_type": "code",
   "execution_count": 16,
   "metadata": {},
   "outputs": [
    {
     "data": {
      "text/plain": [
       "GrowthPlan                                             108509\n",
       "GrowthPlan 3                                            49039\n",
       "GrowthPlan 2                                            13219\n",
       "GrowthPlan,GrowthPlan                                    1269\n",
       "GrowthPlan 3,GrowthPlan                                   165\n",
       "GrowthPlan,GrowthPlan 3                                   159\n",
       "GrowthPlan 3,GrowthPlan 3                                 123\n",
       "Non-Sub,GrowthPlan                                         70\n",
       "GrowthPlan,Non-Sub                                         62\n",
       "GrowthPlan,GrowthPlan 2                                    54\n",
       "Prepay 6                                                   51\n",
       "GrowthPlan 2,GrowthPlan                                    50\n",
       "Non-Sub,GrowthPlan 3                                       49\n",
       "GrowthPlan 3,Non-Sub                                       42\n",
       "GrowthPlan 2,GrowthPlan 2                                  37\n",
       "GrowthPlan,GrowthPlan,GrowthPlan                           26\n",
       "GrowthPlan 3,GrowthPlan 2                                  25\n",
       "GrowthPlan 2,GrowthPlan 3                                  20\n",
       "GrowthPlan 2,Non-Sub                                       10\n",
       "Test                                                        8\n",
       "Non-Sub,GrowthPlan 2                                        8\n",
       "GrowthPlan,GrowthPlan,GrowthPlan 3                          5\n",
       "GrowthPlan,GrowthPlan 3,GrowthPlan                          2\n",
       "GrowthPlan 3,GrowthPlan,GrowthPlan                          2\n",
       "GrowthPlan,GrowthPlan,GrowthPlan 2                          1\n",
       "GrowthPlan,Non-Sub,Non-Sub                                  1\n",
       "Non-Sub,Non-Sub,GrowthPlan                                  1\n",
       "Non-Sub,GrowthPlan 3,GrowthPlan 3                           1\n",
       "GrowthPlan 3,GrowthPlan,GrowthPlan 3,GrowthPlan 3           1\n",
       "Non-Sub                                                     1\n",
       "GrowthPlan 2,GrowthPlan 2,GrowthPlan                        1\n",
       "GrowthPlan 3,Non-Sub,Non-Sub                                1\n",
       "GrowthPlan,GrowthPlan 2,GrowthPlan                          1\n",
       "GrowthPlan 3,GrowthPlan 2,Non-Sub                           1\n",
       "GrowthPlan 3,GrowthPlan 3,GrowthPlan 2,GrowthPlan 3         1\n",
       "GrowthPlan 3,GrowthPlan 3,GrowthPlan,GrowthPlan             1\n",
       "GrowthPlan 3,GrowthPlan,GrowthPlan 2                        1\n",
       "Name: ITEM_SUB_TYPE, dtype: int64"
      ]
     },
     "execution_count": 16,
     "metadata": {},
     "output_type": "execute_result"
    }
   ],
   "source": [
    "sub3.ITEM_SUB_TYPE.value_counts()"
   ]
  },
  {
   "cell_type": "code",
   "execution_count": 30,
   "metadata": {
    "scrolled": true
   },
   "outputs": [
    {
     "data": {
      "text/html": [
       "<div>\n",
       "<style scoped>\n",
       "    .dataframe tbody tr th:only-of-type {\n",
       "        vertical-align: middle;\n",
       "    }\n",
       "\n",
       "    .dataframe tbody tr th {\n",
       "        vertical-align: top;\n",
       "    }\n",
       "\n",
       "    .dataframe thead th {\n",
       "        text-align: right;\n",
       "    }\n",
       "</style>\n",
       "<table border=\"1\" class=\"dataframe\">\n",
       "  <thead>\n",
       "    <tr style=\"text-align: right;\">\n",
       "      <th></th>\n",
       "      <th>TOTAL_ORDER_VALUE</th>\n",
       "      <th>TOTAL_ORDERS</th>\n",
       "    </tr>\n",
       "  </thead>\n",
       "  <tbody>\n",
       "    <tr>\n",
       "      <th>count</th>\n",
       "      <td>173972.000000</td>\n",
       "      <td>173972.000000</td>\n",
       "    </tr>\n",
       "    <tr>\n",
       "      <th>mean</th>\n",
       "      <td>503.819802</td>\n",
       "      <td>6.090974</td>\n",
       "    </tr>\n",
       "    <tr>\n",
       "      <th>std</th>\n",
       "      <td>488.803856</td>\n",
       "      <td>5.770287</td>\n",
       "    </tr>\n",
       "    <tr>\n",
       "      <th>min</th>\n",
       "      <td>-32.000000</td>\n",
       "      <td>1.000000</td>\n",
       "    </tr>\n",
       "    <tr>\n",
       "      <th>25%</th>\n",
       "      <td>158.000000</td>\n",
       "      <td>2.000000</td>\n",
       "    </tr>\n",
       "    <tr>\n",
       "      <th>50%</th>\n",
       "      <td>338.200000</td>\n",
       "      <td>4.000000</td>\n",
       "    </tr>\n",
       "    <tr>\n",
       "      <th>75%</th>\n",
       "      <td>681.000000</td>\n",
       "      <td>8.000000</td>\n",
       "    </tr>\n",
       "    <tr>\n",
       "      <th>max</th>\n",
       "      <td>7926.000000</td>\n",
       "      <td>94.000000</td>\n",
       "    </tr>\n",
       "  </tbody>\n",
       "</table>\n",
       "</div>"
      ],
      "text/plain": [
       "       TOTAL_ORDER_VALUE   TOTAL_ORDERS\n",
       "count      173972.000000  173972.000000\n",
       "mean          503.819802       6.090974\n",
       "std           488.803856       5.770287\n",
       "min           -32.000000       1.000000\n",
       "25%           158.000000       2.000000\n",
       "50%           338.200000       4.000000\n",
       "75%           681.000000       8.000000\n",
       "max          7926.000000      94.000000"
      ]
     },
     "execution_count": 30,
     "metadata": {},
     "output_type": "execute_result"
    }
   ],
   "source": [
    "sub3.describe()"
   ]
  },
  {
   "cell_type": "markdown",
   "metadata": {},
   "source": [
    "## Merge"
   ]
  },
  {
   "cell_type": "code",
   "execution_count": 31,
   "metadata": {
    "scrolled": true
   },
   "outputs": [
    {
     "name": "stdout",
     "output_type": "stream",
     "text": [
      "<class 'pandas.core.frame.DataFrame'>\n",
      "Index: 3665 entries, 101akpatel@gmail.com to zusette1950@yahoo.com\n",
      "Data columns (total 9 columns):\n",
      " #   Column                      Non-Null Count  Dtype         \n",
      "---  ------                      --------------  -----         \n",
      " 0   APPOINTMENT_BODY_DATE       3665 non-null   datetime64[ns]\n",
      " 1   APPOINTMENT_BODY_TYPE       3665 non-null   object        \n",
      " 2   APPOINTMENT_BODY_CALENDAR   3665 non-null   object        \n",
      " 3   FIRST_ORDER_AT              2945 non-null   datetime64[ns]\n",
      " 4   TOTAL_ORDER_VALUE           2945 non-null   float64       \n",
      " 5   TOTAL_ORDERS                2945 non-null   float64       \n",
      " 6   ITEM_GENDER                 2945 non-null   object        \n",
      " 7   ITEM_SUB_TYPE               2945 non-null   object        \n",
      " 8   ITEM_PRODUCT_CORE_CATEGORY  2945 non-null   object        \n",
      "dtypes: datetime64[ns](2), float64(2), object(5)\n",
      "memory usage: 286.3+ KB\n"
     ]
    }
   ],
   "source": [
    "sub = pd.merge(clean_acuity,sub3, how='left',on='EMAIL',copy=False)\n",
    "sub.info()"
   ]
  },
  {
   "cell_type": "code",
   "execution_count": 32,
   "metadata": {},
   "outputs": [
    {
     "data": {
      "text/plain": [
       "GrowthPlan      1372\n",
       "GrowthPlan 3    1027\n",
       "GrowthPlan 2     546\n",
       "Name: ITEM_SUB_TYPE, dtype: int64"
      ]
     },
     "execution_count": 32,
     "metadata": {},
     "output_type": "execute_result"
    }
   ],
   "source": [
    "# clean up item sub\n",
    "sub.loc[sub['ITEM_SUB_TYPE'] =='GrowthPlan,GrowthPlan']= 'GrowthPlan'\n",
    "sub.loc[sub['ITEM_SUB_TYPE'] =='GrowthPlan 3,GrowthPlan 3']= 'GrowthPlan 3'\n",
    "sub.loc[sub['ITEM_SUB_TYPE'] =='GrowthPlan,GrowthPlan 3']= 'GrowthPlan'\n",
    "sub.loc[sub['ITEM_SUB_TYPE'] =='GrowthPlan 2,GrowthPlan']= 'GrowthPlan 2'\n",
    "sub.loc[sub['ITEM_SUB_TYPE'] =='GrowthPlan 3,GrowthPlan 2']= 'GrowthPlan 3'\n",
    "sub.loc[sub['ITEM_SUB_TYPE'] =='GrowthPlan,GrowthPlan 2']= 'GrowthPlan'\n",
    "sub.loc[sub['ITEM_SUB_TYPE'] =='GrowthPlan 3,GrowthPlan']= 'GrowthPlan 3'\n",
    "sub.loc[sub['ITEM_SUB_TYPE'] =='GrowthPlan 2,GrowthPlan 2']= 'GrowthPlan 2'\n",
    "sub.loc[sub['ITEM_SUB_TYPE'] =='GrowthPlan 3,Non-Sub']= 'GrowthPlan 3'\n",
    "\n",
    "sub['ITEM_SUB_TYPE'].value_counts()"
   ]
  },
  {
   "cell_type": "code",
   "execution_count": 33,
   "metadata": {},
   "outputs": [
    {
     "data": {
      "text/plain": [
       "Women      1452\n",
       "Balance    1006\n",
       "Men         487\n",
       "Name: ITEM_PRODUCT_CORE_CATEGORY, dtype: int64"
      ]
     },
     "execution_count": 33,
     "metadata": {},
     "output_type": "execute_result"
    }
   ],
   "source": [
    "sub.loc[sub['ITEM_PRODUCT_CORE_CATEGORY'] =='Men,Men']= 'Men'\n",
    "sub.loc[sub['ITEM_PRODUCT_CORE_CATEGORY'] =='GrowthPlan']= 'Balance'\n",
    "sub.loc[sub['ITEM_PRODUCT_CORE_CATEGORY'] =='GrowthPlan 2']= 'Balance'\n",
    "sub.loc[sub['ITEM_PRODUCT_CORE_CATEGORY'] =='GrowthPlan 3']= 'Balance'\n",
    "\n",
    "sub['ITEM_PRODUCT_CORE_CATEGORY'].value_counts()"
   ]
  },
  {
   "cell_type": "code",
   "execution_count": 34,
   "metadata": {},
   "outputs": [],
   "source": [
    "# Export data\n",
    "sub.to_csv('sub.csv')"
   ]
  },
  {
   "cell_type": "code",
   "execution_count": 35,
   "metadata": {},
   "outputs": [
    {
     "data": {
      "text/html": [
       "<div>\n",
       "<style scoped>\n",
       "    .dataframe tbody tr th:only-of-type {\n",
       "        vertical-align: middle;\n",
       "    }\n",
       "\n",
       "    .dataframe tbody tr th {\n",
       "        vertical-align: top;\n",
       "    }\n",
       "\n",
       "    .dataframe thead th {\n",
       "        text-align: right;\n",
       "    }\n",
       "</style>\n",
       "<table border=\"1\" class=\"dataframe\">\n",
       "  <thead>\n",
       "    <tr style=\"text-align: right;\">\n",
       "      <th></th>\n",
       "      <th>APPOINTMENT_BODY_DATE</th>\n",
       "      <th>APPOINTMENT_BODY_TYPE</th>\n",
       "      <th>APPOINTMENT_BODY_CALENDAR</th>\n",
       "      <th>FIRST_ORDER_AT</th>\n",
       "      <th>TOTAL_ORDER_VALUE</th>\n",
       "      <th>TOTAL_ORDERS</th>\n",
       "      <th>ITEM_GENDER</th>\n",
       "      <th>ITEM_SUB_TYPE</th>\n",
       "      <th>ITEM_PRODUCT_CORE_CATEGORY</th>\n",
       "    </tr>\n",
       "  </thead>\n",
       "  <tbody>\n",
       "    <tr>\n",
       "      <th>count</th>\n",
       "      <td>3665</td>\n",
       "      <td>3665</td>\n",
       "      <td>3665</td>\n",
       "      <td>2945</td>\n",
       "      <td>2945.0</td>\n",
       "      <td>2945.0</td>\n",
       "      <td>2945</td>\n",
       "      <td>2945</td>\n",
       "      <td>2945</td>\n",
       "    </tr>\n",
       "    <tr>\n",
       "      <th>unique</th>\n",
       "      <td>119</td>\n",
       "      <td>4</td>\n",
       "      <td>11</td>\n",
       "      <td>2922</td>\n",
       "      <td>807.0</td>\n",
       "      <td>36.0</td>\n",
       "      <td>3</td>\n",
       "      <td>5</td>\n",
       "      <td>3</td>\n",
       "    </tr>\n",
       "    <tr>\n",
       "      <th>top</th>\n",
       "      <td>2020-11-12 00:00:00</td>\n",
       "      <td>Hair Consultation</td>\n",
       "      <td>Dr. Ariana Zastrow, ND</td>\n",
       "      <td>Balance</td>\n",
       "      <td>158.0</td>\n",
       "      <td>2.0</td>\n",
       "      <td>Women</td>\n",
       "      <td>GrowthPlan</td>\n",
       "      <td>Women</td>\n",
       "    </tr>\n",
       "    <tr>\n",
       "      <th>freq</th>\n",
       "      <td>76</td>\n",
       "      <td>3224</td>\n",
       "      <td>709</td>\n",
       "      <td>24</td>\n",
       "      <td>100.0</td>\n",
       "      <td>462.0</td>\n",
       "      <td>2434</td>\n",
       "      <td>1359</td>\n",
       "      <td>1452</td>\n",
       "    </tr>\n",
       "  </tbody>\n",
       "</table>\n",
       "</div>"
      ],
      "text/plain": [
       "       APPOINTMENT_BODY_DATE APPOINTMENT_BODY_TYPE APPOINTMENT_BODY_CALENDAR  \\\n",
       "count                   3665                  3665                      3665   \n",
       "unique                   119                     4                        11   \n",
       "top      2020-11-12 00:00:00     Hair Consultation   Dr. Ariana Zastrow, ND    \n",
       "freq                      76                  3224                       709   \n",
       "\n",
       "       FIRST_ORDER_AT  TOTAL_ORDER_VALUE  TOTAL_ORDERS ITEM_GENDER  \\\n",
       "count            2945             2945.0        2945.0        2945   \n",
       "unique           2922              807.0          36.0           3   \n",
       "top           Balance              158.0           2.0       Women   \n",
       "freq               24              100.0         462.0        2434   \n",
       "\n",
       "       ITEM_SUB_TYPE ITEM_PRODUCT_CORE_CATEGORY  \n",
       "count           2945                       2945  \n",
       "unique             5                          3  \n",
       "top       GrowthPlan                      Women  \n",
       "freq            1359                       1452  "
      ]
     },
     "execution_count": 35,
     "metadata": {},
     "output_type": "execute_result"
    }
   ],
   "source": [
    "sub.describe()"
   ]
  },
  {
   "cell_type": "code",
   "execution_count": null,
   "metadata": {},
   "outputs": [],
   "source": []
  }
 ],
 "metadata": {
  "kernelspec": {
   "display_name": "Python 3",
   "language": "python",
   "name": "python3"
  },
  "language_info": {
   "codemirror_mode": {
    "name": "ipython",
    "version": 3
   },
   "file_extension": ".py",
   "mimetype": "text/x-python",
   "name": "python",
   "nbconvert_exporter": "python",
   "pygments_lexer": "ipython3",
   "version": "3.7.9"
  },
  "toc": {
   "base_numbering": 1,
   "nav_menu": {},
   "number_sections": true,
   "sideBar": true,
   "skip_h1_title": false,
   "title_cell": "Table of Contents",
   "title_sidebar": "Contents",
   "toc_cell": false,
   "toc_position": {
    "height": "calc(100% - 180px)",
    "left": "10px",
    "top": "150px",
    "width": "235.75px"
   },
   "toc_section_display": true,
   "toc_window_display": true
  }
 },
 "nbformat": 4,
 "nbformat_minor": 2
}
