{
 "cells": [
  {
   "cell_type": "markdown",
   "metadata": {},
   "source": [
    "# Imports"
   ]
  },
  {
   "cell_type": "code",
   "execution_count": 1,
   "metadata": {},
   "outputs": [],
   "source": [
    "# Import standard libraries\n",
    "import pandas as pd\n",
    "import seaborn as sns\n",
    "import numpy as np\n",
    "import matplotlib.pyplot as plt\n",
    "%matplotlib inline\n",
    "\n",
    "# API\n",
    "import requests\n",
    "import snowflake.connector\n",
    "\n",
    "# Date\n",
    "import datetime as dt\n",
    "import time\n",
    "from datetime import timedelta"
   ]
  },
  {
   "cell_type": "code",
   "execution_count": 2,
   "metadata": {},
   "outputs": [],
   "source": [
    "silver = pd.read_csv('Acuity.csv')\n",
    "acuity = pd.read_csv('acuity_intake_source_2021.csv')\n",
    "LCM = pd.read_csv('LCM.csv')\n",
    "\n",
    "# Change dates to datetime Dtype\n",
    "silver['APPOINTMENT_BODY_DATE'] = pd.to_datetime(silver['APPOINTMENT_BODY_DATE'])\n",
    "acuity['Date Scheduled'] = pd.to_datetime(acuity['Date Scheduled'])"
   ]
  },
  {
   "cell_type": "code",
   "execution_count": 3,
   "metadata": {},
   "outputs": [
    {
     "data": {
      "text/plain": [
       "hmapage    186\n",
       "ndpage      94\n",
       "Name: Campaign, dtype: int64"
      ]
     },
     "execution_count": 3,
     "metadata": {},
     "output_type": "execute_result"
    }
   ],
   "source": [
    "# drop\n",
    "na_dict = {'checkoutsuccess' : np.nan,\n",
    "          'cx' : np.nan,\n",
    "          'emaildrip' : np.nan,\n",
    "          'hmafollowup' : np.nan,\n",
    "          'trackingpage' : np.nan,\n",
    "          'brightback' : np.nan,\n",
    "          'socialdm' : np.nan,\n",
    "          'dr_hma' : np.nan,\n",
    "          'dr_consult' : np.nan,\n",
    "          'lcm_210127-newyear-nonsubw-20' : np.nan,\n",
    "          'lcm_210127-newyear-nonsub-b-15' : np.nan,\n",
    "          'lcm_welcome_M_D21' : np.nan,\n",
    "          'lcm_210127-newyear-nonsubw-15' : np.nan}\n",
    "\n",
    "acuity['Campaign'].replace(na_dict, inplace = True)\n",
    "\n",
    "acuity.Campaign.value_counts()"
   ]
  },
  {
   "cell_type": "code",
   "execution_count": 4,
   "metadata": {},
   "outputs": [],
   "source": [
    "acuity.drop(columns=['Start Time', 'End Time', 'First Name', 'Last Name', 'Phone',\n",
    "       'Type', 'Calendar', 'Appointment Price', 'Paid?', 'Amount Paid Online',\n",
    "       'Certificate Code', 'Notes', 'Label', 'Scheduled By'], inplace=True)"
   ]
  },
  {
   "cell_type": "code",
   "execution_count": 5,
   "metadata": {},
   "outputs": [],
   "source": [
    "acuity.dropna(inplace = True)"
   ]
  },
  {
   "cell_type": "code",
   "execution_count": 6,
   "metadata": {},
   "outputs": [
    {
     "name": "stdout",
     "output_type": "stream",
     "text": [
      "<class 'pandas.core.frame.DataFrame'>\n",
      "Int64Index: 280 entries, 170 to 1634\n",
      "Data columns (total 4 columns):\n",
      " #   Column          Non-Null Count  Dtype         \n",
      "---  ------          --------------  -----         \n",
      " 0   Email           280 non-null    object        \n",
      " 1   Date Scheduled  280 non-null    datetime64[ns]\n",
      " 2   Campaign        280 non-null    object        \n",
      " 3   Appointment ID  280 non-null    int64         \n",
      "dtypes: datetime64[ns](1), int64(1), object(2)\n",
      "memory usage: 10.9+ KB\n"
     ]
    }
   ],
   "source": [
    "acuity.info()"
   ]
  },
  {
   "cell_type": "code",
   "execution_count": 7,
   "metadata": {},
   "outputs": [
    {
     "data": {
      "text/plain": [
       "(4958, 4)"
      ]
     },
     "execution_count": 7,
     "metadata": {},
     "output_type": "execute_result"
    }
   ],
   "source": [
    "# Drop unneeded columns\n",
    "silver.drop(columns=['EVENT_TS', 'EVENT_TS_UTC', 'ANONYMOUS_ID','APPOINTMENT_BODY_FIRST_NAME',\n",
    "       'APPOINTMENT_BODY_DATETIME_CREATED', 'APPOINTMENT_BODY_CALENDAR_ID','APPOINTMENT_BODY_CALENDAR_TIMEZONE',\\\n",
    "                    'APPOINTMENT_BODY_TIMEZONE', 'APPOINTMENT_BODY_LAST_NAME',\\\n",
    "                    'APPOINTMENT_BODY_NO_SHOW', \\\n",
    "                    'APPOINTMENT_TYPE_ID'], inplace=True)\n",
    "\n",
    "# drop irrelevant appointments\n",
    "na_dict= {'Hair Mineral Analysis - Acquisition':np.nan,\n",
    "          'Follow Up Consultation':np.nan,\n",
    "          'Customer consultation':np.nan,\n",
    "          'Case Study':np.nan}\n",
    "\n",
    "silver['APPOINTMENT_BODY_TYPE'].replace(na_dict, inplace = True)\n",
    "\n",
    "clean = silver.groupby('EMAIL').agg({\"APPOINTMENT_BODY_DATE\":'min',\\\n",
    "                                'APPOINTMENT_BODY_TYPE':'last',\\\n",
    "                                'APPOINTMENT_BODY_CALENDAR':'last','APPOINTMENT_BODY_ID':'min'\\\n",
    "                               })\n",
    "clean.shape"
   ]
  },
  {
   "cell_type": "code",
   "execution_count": 8,
   "metadata": {},
   "outputs": [
    {
     "data": {
      "text/plain": [
       "277"
      ]
     },
     "execution_count": 8,
     "metadata": {},
     "output_type": "execute_result"
    }
   ],
   "source": [
    "intake = pd.merge(acuity,clean, how='left',left_on='Appointment ID', right_on='APPOINTMENT_BODY_ID',copy=False)\n",
    "intake.Email.nunique()"
   ]
  },
  {
   "cell_type": "code",
   "execution_count": 11,
   "metadata": {},
   "outputs": [
    {
     "data": {
      "text/plain": [
       "277"
      ]
     },
     "execution_count": 11,
     "metadata": {},
     "output_type": "execute_result"
    }
   ],
   "source": [
    "intake2 = pd.merge(intake,LCM, how='left',left_on='Email', right_on='CUSTOMER_EMAIL',copy=False)\n",
    "intake2.Email.nunique()"
   ]
  },
  {
   "cell_type": "code",
   "execution_count": 12,
   "metadata": {},
   "outputs": [
    {
     "data": {
      "text/html": [
       "<div>\n",
       "<style scoped>\n",
       "    .dataframe tbody tr th:only-of-type {\n",
       "        vertical-align: middle;\n",
       "    }\n",
       "\n",
       "    .dataframe tbody tr th {\n",
       "        vertical-align: top;\n",
       "    }\n",
       "\n",
       "    .dataframe thead th {\n",
       "        text-align: right;\n",
       "    }\n",
       "</style>\n",
       "<table border=\"1\" class=\"dataframe\">\n",
       "  <thead>\n",
       "    <tr style=\"text-align: right;\">\n",
       "      <th></th>\n",
       "      <th>Appointment ID</th>\n",
       "      <th>APPOINTMENT_BODY_ID</th>\n",
       "    </tr>\n",
       "  </thead>\n",
       "  <tbody>\n",
       "    <tr>\n",
       "      <th>count</th>\n",
       "      <td>2.800000e+02</td>\n",
       "      <td>2.510000e+02</td>\n",
       "    </tr>\n",
       "    <tr>\n",
       "      <th>mean</th>\n",
       "      <td>5.137600e+08</td>\n",
       "      <td>5.134765e+08</td>\n",
       "    </tr>\n",
       "    <tr>\n",
       "      <th>std</th>\n",
       "      <td>6.488579e+06</td>\n",
       "      <td>6.213369e+06</td>\n",
       "    </tr>\n",
       "    <tr>\n",
       "      <th>min</th>\n",
       "      <td>5.029057e+08</td>\n",
       "      <td>5.029057e+08</td>\n",
       "    </tr>\n",
       "    <tr>\n",
       "      <th>25%</th>\n",
       "      <td>5.080363e+08</td>\n",
       "      <td>5.080143e+08</td>\n",
       "    </tr>\n",
       "    <tr>\n",
       "      <th>50%</th>\n",
       "      <td>5.136479e+08</td>\n",
       "      <td>5.134402e+08</td>\n",
       "    </tr>\n",
       "    <tr>\n",
       "      <th>75%</th>\n",
       "      <td>5.187554e+08</td>\n",
       "      <td>5.180592e+08</td>\n",
       "    </tr>\n",
       "    <tr>\n",
       "      <th>max</th>\n",
       "      <td>5.296502e+08</td>\n",
       "      <td>5.284136e+08</td>\n",
       "    </tr>\n",
       "  </tbody>\n",
       "</table>\n",
       "</div>"
      ],
      "text/plain": [
       "       Appointment ID  APPOINTMENT_BODY_ID\n",
       "count    2.800000e+02         2.510000e+02\n",
       "mean     5.137600e+08         5.134765e+08\n",
       "std      6.488579e+06         6.213369e+06\n",
       "min      5.029057e+08         5.029057e+08\n",
       "25%      5.080363e+08         5.080143e+08\n",
       "50%      5.136479e+08         5.134402e+08\n",
       "75%      5.187554e+08         5.180592e+08\n",
       "max      5.296502e+08         5.284136e+08"
      ]
     },
     "execution_count": 12,
     "metadata": {},
     "output_type": "execute_result"
    }
   ],
   "source": [
    "# Export data\n",
    "intake2.to_csv('intake2.csv')\n",
    "intake2.describe()"
   ]
  },
  {
   "cell_type": "code",
   "execution_count": 13,
   "metadata": {},
   "outputs": [],
   "source": [
    "acuity.to_csv('QA.csv')"
   ]
  },
  {
   "cell_type": "code",
   "execution_count": null,
   "metadata": {},
   "outputs": [],
   "source": []
  },
  {
   "cell_type": "code",
   "execution_count": null,
   "metadata": {},
   "outputs": [],
   "source": []
  },
  {
   "cell_type": "code",
   "execution_count": null,
   "metadata": {},
   "outputs": [],
   "source": []
  }
 ],
 "metadata": {
  "kernelspec": {
   "display_name": "Python 3",
   "language": "python",
   "name": "python3"
  },
  "language_info": {
   "codemirror_mode": {
    "name": "ipython",
    "version": 3
   },
   "file_extension": ".py",
   "mimetype": "text/x-python",
   "name": "python",
   "nbconvert_exporter": "python",
   "pygments_lexer": "ipython3",
   "version": "3.7.9"
  },
  "toc": {
   "base_numbering": 1,
   "nav_menu": {},
   "number_sections": true,
   "sideBar": true,
   "skip_h1_title": false,
   "title_cell": "Table of Contents",
   "title_sidebar": "Contents",
   "toc_cell": false,
   "toc_position": {
    "height": "calc(100% - 180px)",
    "left": "10px",
    "top": "150px",
    "width": "235.75px"
   },
   "toc_section_display": true,
   "toc_window_display": true
  }
 },
 "nbformat": 4,
 "nbformat_minor": 2
}
