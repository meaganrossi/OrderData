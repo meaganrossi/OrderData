{
 "cells": [
  {
   "cell_type": "markdown",
   "metadata": {},
   "source": [
    "# Imports"
   ]
  },
  {
   "cell_type": "code",
   "execution_count": 1,
   "metadata": {},
   "outputs": [],
   "source": [
    "# Import standard libraries\n",
    "import pandas as pd\n",
    "import seaborn as sns\n",
    "import numpy as np\n",
    "import matplotlib.pyplot as plt\n",
    "%matplotlib inline\n",
    "\n",
    "# API\n",
    "import requests\n",
    "import snowflake.connector\n",
    "\n",
    "# Date\n",
    "import datetime as dt\n",
    "import time\n",
    "from datetime import timedelta"
   ]
  },
  {
   "cell_type": "code",
   "execution_count": 2,
   "metadata": {},
   "outputs": [],
   "source": [
    "silver = pd.read_csv('Acuity.csv')\n",
    "intake = pd.read_csv('acuity_intake_source_2021.csv')\n",
    "\n",
    "sub_2018 = pd.read_csv('2018.csv')\n",
    "sub_20191 = pd.read_csv('2019-1.csv')\n",
    "sub_20192 = pd.read_csv('2019-2.csv')\n",
    "sub_2020 = pd.read_csv('2020.csv')\n",
    "sub_2021 = pd.read_csv('2021.csv')"
   ]
  },
  {
   "cell_type": "markdown",
   "metadata": {},
   "source": [
    "## Acuity"
   ]
  },
  {
   "cell_type": "code",
   "execution_count": 3,
   "metadata": {},
   "outputs": [
    {
     "data": {
      "text/plain": [
       "(1637, 18)"
      ]
     },
     "execution_count": 3,
     "metadata": {},
     "output_type": "execute_result"
    }
   ],
   "source": [
    "# Change dates to datetime Dtype\n",
    "intake['Start Time'] = pd.to_datetime(intake['Start Time'])\n",
    "\n",
    "intake.shape"
   ]
  },
  {
   "cell_type": "code",
   "execution_count": 4,
   "metadata": {},
   "outputs": [
    {
     "data": {
      "text/plain": [
       "<AxesSubplot:>"
      ]
     },
     "execution_count": 4,
     "metadata": {},
     "output_type": "execute_result"
    },
    {
     "data": {
      "image/png": "[encoded data removed]",
      "text/plain": [
       "<Figure size 432x288 with 1 Axes>"
      ]
     },
     "metadata": {
      "needs_background": "light"
     },
     "output_type": "display_data"
    }
   ],
   "source": [
    "# Check for null values\n",
    "sns.heatmap(intake.isnull(), cbar=False)"
   ]
  },
  {
   "cell_type": "code",
   "execution_count": 5,
   "metadata": {},
   "outputs": [],
   "source": [
    "# Drop columns that won't be used\n",
    "intake.drop(columns = ['Certificate Code', 'Label','Notes'], inplace = True)"
   ]
  },
  {
   "cell_type": "code",
   "execution_count": 6,
   "metadata": {
    "scrolled": true
   },
   "outputs": [
    {
     "data": {
      "text/plain": [
       "checkoutsuccess                   434\n",
       "hmapage                           186\n",
       "ndpage                             94\n",
       "cx                                 87\n",
       "emaildrip                          81\n",
       "hmafollowup                        74\n",
       "trackingpage                       38\n",
       "brightback                         31\n",
       "socialdm                            8\n",
       "dr_consult                          4\n",
       "dr_hma                              4\n",
       "lcm_210127-newyear-nonsubw-20       2\n",
       "lcm_welcome_M_D21                   1\n",
       "lcm_210127-newyear-nonsub-b-15      1\n",
       "lcm_210127-newyear-nonsubw-15       1\n",
       "Name: Campaign, dtype: int64"
      ]
     },
     "execution_count": 6,
     "metadata": {},
     "output_type": "execute_result"
    }
   ],
   "source": [
    "intake.Campaign.value_counts()\n",
    "# intake['Scheduled By'].value_counts()"
   ]
  },
  {
   "cell_type": "code",
   "execution_count": 7,
   "metadata": {},
   "outputs": [
    {
     "data": {
      "text/html": [
       "<div>\n",
       "<style scoped>\n",
       "    .dataframe tbody tr th:only-of-type {\n",
       "        vertical-align: middle;\n",
       "    }\n",
       "\n",
       "    .dataframe tbody tr th {\n",
       "        vertical-align: top;\n",
       "    }\n",
       "\n",
       "    .dataframe thead th {\n",
       "        text-align: right;\n",
       "    }\n",
       "</style>\n",
       "<table border=\"1\" class=\"dataframe\">\n",
       "  <thead>\n",
       "    <tr style=\"text-align: right;\">\n",
       "      <th></th>\n",
       "      <th>Start Time</th>\n",
       "      <th>End Time</th>\n",
       "      <th>First Name</th>\n",
       "      <th>Last Name</th>\n",
       "      <th>Phone</th>\n",
       "      <th>Email</th>\n",
       "      <th>Type</th>\n",
       "      <th>Calendar</th>\n",
       "      <th>Appointment Price</th>\n",
       "      <th>Paid?</th>\n",
       "      <th>Amount Paid Online</th>\n",
       "      <th>Date Scheduled</th>\n",
       "      <th>Scheduled By</th>\n",
       "      <th>Campaign</th>\n",
       "      <th>Appointment ID</th>\n",
       "    </tr>\n",
       "  </thead>\n",
       "  <tbody>\n",
       "    <tr>\n",
       "      <th>1118</th>\n",
       "      <td>2021-02-04 15:00:00</td>\n",
       "      <td>February 4, 2021 3:20 pm</td>\n",
       "      <td>Nicole</td>\n",
       "      <td>Everitt</td>\n",
       "      <td>2542148028</td>\n",
       "      <td>nicole.everitt@yahoo.com</td>\n",
       "      <td>Hair Consultation</td>\n",
       "      <td>Dr. Katelyn Cloyd, ND</td>\n",
       "      <td>0.0</td>\n",
       "      <td>no</td>\n",
       "      <td>0.0</td>\n",
       "      <td>2021-01-14</td>\n",
       "      <td>a client</td>\n",
       "      <td>checkoutsuccess</td>\n",
       "      <td>507163280</td>\n",
       "    </tr>\n",
       "  </tbody>\n",
       "</table>\n",
       "</div>"
      ],
      "text/plain": [
       "              Start Time                  End Time First Name Last Name  \\\n",
       "1118 2021-02-04 15:00:00  February 4, 2021 3:20 pm     Nicole   Everitt   \n",
       "\n",
       "           Phone                     Email               Type  \\\n",
       "1118  2542148028  nicole.everitt@yahoo.com  Hair Consultation   \n",
       "\n",
       "                   Calendar  Appointment Price Paid?  Amount Paid Online  \\\n",
       "1118  Dr. Katelyn Cloyd, ND                0.0    no                 0.0   \n",
       "\n",
       "     Date Scheduled Scheduled By         Campaign  Appointment ID  \n",
       "1118     2021-01-14     a client  checkoutsuccess       507163280  "
      ]
     },
     "execution_count": 7,
     "metadata": {},
     "output_type": "execute_result"
    }
   ],
   "source": [
    "intake.loc[intake['Appointment ID'] == 507163280]"
   ]
  },
  {
   "cell_type": "code",
   "execution_count": 8,
   "metadata": {},
   "outputs": [
    {
     "data": {
      "text/html": [
       "<div>\n",
       "<style scoped>\n",
       "    .dataframe tbody tr th:only-of-type {\n",
       "        vertical-align: middle;\n",
       "    }\n",
       "\n",
       "    .dataframe tbody tr th {\n",
       "        vertical-align: top;\n",
       "    }\n",
       "\n",
       "    .dataframe thead th {\n",
       "        text-align: right;\n",
       "    }\n",
       "</style>\n",
       "<table border=\"1\" class=\"dataframe\">\n",
       "  <thead>\n",
       "    <tr style=\"text-align: right;\">\n",
       "      <th></th>\n",
       "      <th>EVENT_TS</th>\n",
       "      <th>EVENT_TS_UTC</th>\n",
       "      <th>ANONYMOUS_ID</th>\n",
       "      <th>EVENT</th>\n",
       "      <th>APPOINTMENT_BODY_CALENDAR</th>\n",
       "      <th>APPOINTMENT_BODY_FIRST_NAME</th>\n",
       "      <th>APPOINTMENT_BODY_DATETIME_CREATED</th>\n",
       "      <th>APPOINTMENT_BODY_CALENDAR_ID</th>\n",
       "      <th>APPOINTMENT_BODY_CALENDAR_TIMEZONE</th>\n",
       "      <th>EMAIL</th>\n",
       "      <th>APPOINTMENT_BODY_DATE</th>\n",
       "      <th>APPOINTMENT_BODY_DURATION</th>\n",
       "      <th>APPOINTMENT_BODY_TIMEZONE</th>\n",
       "      <th>APPOINTMENT_DATE_TIME</th>\n",
       "      <th>APPOINTMENT_BODY_LAST_NAME</th>\n",
       "      <th>APPOINTMENT_BODY_TYPE</th>\n",
       "      <th>APPOINTMENT_BODY_ID</th>\n",
       "      <th>APPOINTMENT_TYPE_ID</th>\n",
       "      <th>APPOINTMENT_BODY_CANCELED</th>\n",
       "      <th>APPOINTMENT_BODY_NO_SHOW</th>\n",
       "    </tr>\n",
       "  </thead>\n",
       "  <tbody>\n",
       "    <tr>\n",
       "      <th>0</th>\n",
       "      <td>2021-01-13 21:57:52.309</td>\n",
       "      <td>2021-01-14 05:57:52.309</td>\n",
       "      <td>507163280</td>\n",
       "      <td>appointment_scheduled</td>\n",
       "      <td>Dr. Katelyn Cloyd, ND</td>\n",
       "      <td>Nicole</td>\n",
       "      <td>2021-01-13 23:57:49.000</td>\n",
       "      <td>3508236.0</td>\n",
       "      <td>America/New_York</td>\n",
       "      <td>nicole.everitt@yahoo.com</td>\n",
       "      <td>February 4, 2021</td>\n",
       "      <td>20.0</td>\n",
       "      <td>America/Chicago</td>\n",
       "      <td>2021-02-04 15:00:00.000</td>\n",
       "      <td>Everitt</td>\n",
       "      <td>Hair Consultation</td>\n",
       "      <td>507163280.0</td>\n",
       "      <td>12799707.0</td>\n",
       "      <td>False</td>\n",
       "      <td>NaN</td>\n",
       "    </tr>\n",
       "    <tr>\n",
       "      <th>4446</th>\n",
       "      <td>2021-01-13 21:57:50.525</td>\n",
       "      <td>2021-01-14 05:57:50.525</td>\n",
       "      <td>507163280</td>\n",
       "      <td>appointment_changed</td>\n",
       "      <td>Dr. Katelyn Cloyd, ND</td>\n",
       "      <td>Nicole</td>\n",
       "      <td>2021-01-13 23:57:49.000</td>\n",
       "      <td>3508236.0</td>\n",
       "      <td>America/New_York</td>\n",
       "      <td>nicole.everitt@yahoo.com</td>\n",
       "      <td>February 4, 2021</td>\n",
       "      <td>20.0</td>\n",
       "      <td>America/Chicago</td>\n",
       "      <td>2021-02-04 15:00:00.000</td>\n",
       "      <td>Everitt</td>\n",
       "      <td>Hair Consultation</td>\n",
       "      <td>507163280.0</td>\n",
       "      <td>12799707.0</td>\n",
       "      <td>False</td>\n",
       "      <td>NaN</td>\n",
       "    </tr>\n",
       "    <tr>\n",
       "      <th>4678</th>\n",
       "      <td>2021-02-04 12:13:56.146</td>\n",
       "      <td>2021-02-04 20:13:56.146</td>\n",
       "      <td>507163280</td>\n",
       "      <td>appointment_changed</td>\n",
       "      <td>Dr. Katelyn Cloyd, ND</td>\n",
       "      <td>Nicole</td>\n",
       "      <td>2021-01-13 23:57:49.000</td>\n",
       "      <td>3508236.0</td>\n",
       "      <td>America/New_York</td>\n",
       "      <td>nicole.everitt@yahoo.com</td>\n",
       "      <td>February 4, 2021</td>\n",
       "      <td>20.0</td>\n",
       "      <td>America/Chicago</td>\n",
       "      <td>2021-02-04 15:00:00.000</td>\n",
       "      <td>Everitt</td>\n",
       "      <td>Hair Consultation</td>\n",
       "      <td>507163280.0</td>\n",
       "      <td>12799707.0</td>\n",
       "      <td>False</td>\n",
       "      <td>NaN</td>\n",
       "    </tr>\n",
       "    <tr>\n",
       "      <th>4681</th>\n",
       "      <td>2021-02-04 12:14:01.390</td>\n",
       "      <td>2021-02-04 20:14:01.390</td>\n",
       "      <td>507163280</td>\n",
       "      <td>appointment_changed</td>\n",
       "      <td>Dr. Katelyn Cloyd, ND</td>\n",
       "      <td>Nicole</td>\n",
       "      <td>2021-01-13 23:57:49.000</td>\n",
       "      <td>3508236.0</td>\n",
       "      <td>America/New_York</td>\n",
       "      <td>nicole.everitt@yahoo.com</td>\n",
       "      <td>February 4, 2021</td>\n",
       "      <td>20.0</td>\n",
       "      <td>America/Chicago</td>\n",
       "      <td>2021-02-04 15:00:00.000</td>\n",
       "      <td>Everitt</td>\n",
       "      <td>Hair Consultation</td>\n",
       "      <td>507163280.0</td>\n",
       "      <td>12799707.0</td>\n",
       "      <td>False</td>\n",
       "      <td>NaN</td>\n",
       "    </tr>\n",
       "    <tr>\n",
       "      <th>4683</th>\n",
       "      <td>2021-02-04 11:52:51.653</td>\n",
       "      <td>2021-02-04 19:52:51.653</td>\n",
       "      <td>507163280</td>\n",
       "      <td>appointment_changed</td>\n",
       "      <td>Dr. Katelyn Cloyd, ND</td>\n",
       "      <td>Nicole</td>\n",
       "      <td>2021-01-13 23:57:49.000</td>\n",
       "      <td>3508236.0</td>\n",
       "      <td>America/New_York</td>\n",
       "      <td>nicole.everitt@yahoo.com</td>\n",
       "      <td>February 4, 2021</td>\n",
       "      <td>20.0</td>\n",
       "      <td>America/Chicago</td>\n",
       "      <td>2021-02-04 15:00:00.000</td>\n",
       "      <td>Everitt</td>\n",
       "      <td>Hair Consultation</td>\n",
       "      <td>507163280.0</td>\n",
       "      <td>12799707.0</td>\n",
       "      <td>False</td>\n",
       "      <td>NaN</td>\n",
       "    </tr>\n",
       "  </tbody>\n",
       "</table>\n",
       "</div>"
      ],
      "text/plain": [
       "                     EVENT_TS             EVENT_TS_UTC  ANONYMOUS_ID  \\\n",
       "0     2021-01-13 21:57:52.309  2021-01-14 05:57:52.309     507163280   \n",
       "4446  2021-01-13 21:57:50.525  2021-01-14 05:57:50.525     507163280   \n",
       "4678  2021-02-04 12:13:56.146  2021-02-04 20:13:56.146     507163280   \n",
       "4681  2021-02-04 12:14:01.390  2021-02-04 20:14:01.390     507163280   \n",
       "4683  2021-02-04 11:52:51.653  2021-02-04 19:52:51.653     507163280   \n",
       "\n",
       "                      EVENT APPOINTMENT_BODY_CALENDAR  \\\n",
       "0     appointment_scheduled     Dr. Katelyn Cloyd, ND   \n",
       "4446    appointment_changed     Dr. Katelyn Cloyd, ND   \n",
       "4678    appointment_changed     Dr. Katelyn Cloyd, ND   \n",
       "4681    appointment_changed     Dr. Katelyn Cloyd, ND   \n",
       "4683    appointment_changed     Dr. Katelyn Cloyd, ND   \n",
       "\n",
       "     APPOINTMENT_BODY_FIRST_NAME APPOINTMENT_BODY_DATETIME_CREATED  \\\n",
       "0                         Nicole           2021-01-13 23:57:49.000   \n",
       "4446                      Nicole           2021-01-13 23:57:49.000   \n",
       "4678                      Nicole           2021-01-13 23:57:49.000   \n",
       "4681                      Nicole           2021-01-13 23:57:49.000   \n",
       "4683                      Nicole           2021-01-13 23:57:49.000   \n",
       "\n",
       "      APPOINTMENT_BODY_CALENDAR_ID APPOINTMENT_BODY_CALENDAR_TIMEZONE  \\\n",
       "0                        3508236.0                   America/New_York   \n",
       "4446                     3508236.0                   America/New_York   \n",
       "4678                     3508236.0                   America/New_York   \n",
       "4681                     3508236.0                   America/New_York   \n",
       "4683                     3508236.0                   America/New_York   \n",
       "\n",
       "                         EMAIL APPOINTMENT_BODY_DATE  \\\n",
       "0     nicole.everitt@yahoo.com      February 4, 2021   \n",
       "4446  nicole.everitt@yahoo.com      February 4, 2021   \n",
       "4678  nicole.everitt@yahoo.com      February 4, 2021   \n",
       "4681  nicole.everitt@yahoo.com      February 4, 2021   \n",
       "4683  nicole.everitt@yahoo.com      February 4, 2021   \n",
       "\n",
       "      APPOINTMENT_BODY_DURATION APPOINTMENT_BODY_TIMEZONE  \\\n",
       "0                          20.0           America/Chicago   \n",
       "4446                       20.0           America/Chicago   \n",
       "4678                       20.0           America/Chicago   \n",
       "4681                       20.0           America/Chicago   \n",
       "4683                       20.0           America/Chicago   \n",
       "\n",
       "        APPOINTMENT_DATE_TIME APPOINTMENT_BODY_LAST_NAME  \\\n",
       "0     2021-02-04 15:00:00.000                    Everitt   \n",
       "4446  2021-02-04 15:00:00.000                    Everitt   \n",
       "4678  2021-02-04 15:00:00.000                    Everitt   \n",
       "4681  2021-02-04 15:00:00.000                    Everitt   \n",
       "4683  2021-02-04 15:00:00.000                    Everitt   \n",
       "\n",
       "     APPOINTMENT_BODY_TYPE  APPOINTMENT_BODY_ID  APPOINTMENT_TYPE_ID  \\\n",
       "0        Hair Consultation          507163280.0           12799707.0   \n",
       "4446     Hair Consultation          507163280.0           12799707.0   \n",
       "4678     Hair Consultation          507163280.0           12799707.0   \n",
       "4681     Hair Consultation          507163280.0           12799707.0   \n",
       "4683     Hair Consultation          507163280.0           12799707.0   \n",
       "\n",
       "     APPOINTMENT_BODY_CANCELED APPOINTMENT_BODY_NO_SHOW  \n",
       "0                        False                      NaN  \n",
       "4446                     False                      NaN  \n",
       "4678                     False                      NaN  \n",
       "4681                     False                      NaN  \n",
       "4683                     False                      NaN  "
      ]
     },
     "execution_count": 8,
     "metadata": {},
     "output_type": "execute_result"
    }
   ],
   "source": [
    "silver.loc[silver['APPOINTMENT_BODY_ID'] == 507163280]\n",
    "# min(intake['Start Time'])"
   ]
  },
  {
   "cell_type": "code",
   "execution_count": 9,
   "metadata": {},
   "outputs": [
    {
     "data": {
      "text/plain": [
       "hmapage                           186\n",
       "hmafollowup                        74\n",
       "dr_hma                              4\n",
       "lcm_210127-newyear-nonsub-b-15      1\n",
       "Name: Campaign, dtype: int64"
      ]
     },
     "execution_count": 9,
     "metadata": {},
     "output_type": "execute_result"
    }
   ],
   "source": [
    "# drop irrelevant appointments\n",
    "na_dict= {'checkoutsuccess':np.nan,\n",
    "          'ndpage':np.nan,\n",
    "          'cx':np.nan,\n",
    "          'emaildrip':np.nan,\n",
    "          'trackingpage':np.nan,\n",
    "          'socialdm':np.nan,\n",
    "          'dr_consult':np.nan,\n",
    "          'brightback':np.nan,\n",
    "          'lcm_210127-newyear-nonsubw-20':np.nan,\n",
    "          'lcm_welcome_M_D21':np.nan,\n",
    "          'lcm_210127-newyear-nonsubw-15':np.nan\n",
    "         }\n",
    "\n",
    "intake['Campaign'].replace(na_dict, inplace = True)\n",
    "intake.dropna(inplace = True)\n",
    "intake['Campaign'].value_counts()"
   ]
  },
  {
   "cell_type": "code",
   "execution_count": 10,
   "metadata": {},
   "outputs": [
    {
     "data": {
      "text/plain": [
       "appointment_changed        19261\n",
       "appointment_scheduled       5664\n",
       "appointment_rescheduled      774\n",
       "appointment_canceled         477\n",
       "Name: EVENT, dtype: int64"
      ]
     },
     "execution_count": 10,
     "metadata": {},
     "output_type": "execute_result"
    }
   ],
   "source": [
    "# Change dates to datetime Dtype\n",
    "silver['APPOINTMENT_BODY_DATE'] = pd.to_datetime(silver['APPOINTMENT_BODY_DATE'])\n",
    "\n",
    "# Drop unneeded columns\n",
    "silver.drop(columns=['EVENT_TS', 'EVENT_TS_UTC', 'ANONYMOUS_ID','APPOINTMENT_BODY_FIRST_NAME',\n",
    "       'APPOINTMENT_BODY_DATETIME_CREATED', 'APPOINTMENT_BODY_CALENDAR_ID','APPOINTMENT_BODY_CALENDAR_TIMEZONE',\\\n",
    "                    'APPOINTMENT_BODY_TIMEZONE', 'APPOINTMENT_BODY_LAST_NAME',\\\n",
    "                    'APPOINTMENT_BODY_NO_SHOW', \\\n",
    "                    'APPOINTMENT_TYPE_ID'], inplace=True)\n",
    "\n",
    "silver['EVENT'].value_counts()"
   ]
  },
  {
   "cell_type": "code",
   "execution_count": 11,
   "metadata": {},
   "outputs": [
    {
     "data": {
      "text/plain": [
       "(4958, 4)"
      ]
     },
     "execution_count": 11,
     "metadata": {},
     "output_type": "execute_result"
    }
   ],
   "source": [
    "clean = silver.groupby('EMAIL').agg({\"APPOINTMENT_BODY_DATE\":'min',\\\n",
    "                                'APPOINTMENT_BODY_TYPE':'last',\\\n",
    "                                'APPOINTMENT_BODY_CALENDAR':'last','APPOINTMENT_BODY_ID':'min'\\\n",
    "                               })\n",
    "clean.shape"
   ]
  },
  {
   "cell_type": "code",
   "execution_count": 12,
   "metadata": {},
   "outputs": [
    {
     "name": "stdout",
     "output_type": "stream",
     "text": [
      "<class 'pandas.core.frame.DataFrame'>\n",
      "Int64Index: 265 entries, 0 to 264\n",
      "Data columns (total 19 columns):\n",
      " #   Column                     Non-Null Count  Dtype         \n",
      "---  ------                     --------------  -----         \n",
      " 0   Start Time                 265 non-null    datetime64[ns]\n",
      " 1   End Time                   265 non-null    object        \n",
      " 2   First Name                 265 non-null    object        \n",
      " 3   Last Name                  265 non-null    object        \n",
      " 4   Phone                      265 non-null    object        \n",
      " 5   Email                      265 non-null    object        \n",
      " 6   Type                       265 non-null    object        \n",
      " 7   Calendar                   265 non-null    object        \n",
      " 8   Appointment Price          265 non-null    float64       \n",
      " 9   Paid?                      265 non-null    object        \n",
      " 10  Amount Paid Online         265 non-null    float64       \n",
      " 11  Date Scheduled             265 non-null    object        \n",
      " 12  Scheduled By               265 non-null    object        \n",
      " 13  Campaign                   265 non-null    object        \n",
      " 14  Appointment ID             265 non-null    int64         \n",
      " 15  APPOINTMENT_BODY_DATE      205 non-null    datetime64[ns]\n",
      " 16  APPOINTMENT_BODY_TYPE      205 non-null    object        \n",
      " 17  APPOINTMENT_BODY_CALENDAR  205 non-null    object        \n",
      " 18  APPOINTMENT_BODY_ID        205 non-null    float64       \n",
      "dtypes: datetime64[ns](2), float64(3), int64(1), object(13)\n",
      "memory usage: 41.4+ KB\n"
     ]
    }
   ],
   "source": [
    "acuity = pd.merge(intake,clean, how='left',left_on='Appointment ID', right_on='APPOINTMENT_BODY_ID',copy=False)\n",
    "acuity.info()"
   ]
  },
  {
   "cell_type": "code",
   "execution_count": 13,
   "metadata": {},
   "outputs": [
    {
     "data": {
      "text/plain": [
       "265"
      ]
     },
     "execution_count": 13,
     "metadata": {},
     "output_type": "execute_result"
    }
   ],
   "source": [
    "acuity.Email.nunique()"
   ]
  },
  {
   "cell_type": "markdown",
   "metadata": {},
   "source": [
    "## SUB"
   ]
  },
  {
   "cell_type": "code",
   "execution_count": 21,
   "metadata": {},
   "outputs": [
    {
     "name": "stdout",
     "output_type": "stream",
     "text": [
      "total (1147363, 7)\n",
      "1 (506714, 7)\n",
      "2 (640649, 7)\n"
     ]
    }
   ],
   "source": [
    "sub_2019=pd.merge(sub_20191,sub_20192,how='outer')\n",
    "print('total',sub_2019.shape)\n",
    "print('1',sub_20191.shape)\n",
    "print('2',sub_20192.shape)\n",
    "\n",
    "# Change dates to datetime \n",
    "sub_2018['FIRST_ORDER_AT'] = pd.to_datetime(sub_2018['FIRST_ORDER_AT'])\n",
    "sub_2019['FIRST_ORDER_AT'] = pd.to_datetime(sub_2019['FIRST_ORDER_AT'])\n",
    "sub_2020['FIRST_ORDER_AT'] = pd.to_datetime(sub_2020['FIRST_ORDER_AT'])\n",
    "sub_2021['FIRST_ORDER_AT'] = pd.to_datetime(sub_2021['FIRST_ORDER_AT'])"
   ]
  },
  {
   "cell_type": "code",
   "execution_count": 22,
   "metadata": {},
   "outputs": [
    {
     "data": {
      "text/plain": [
       "(18970, 6)"
      ]
     },
     "execution_count": 22,
     "metadata": {},
     "output_type": "execute_result"
    }
   ],
   "source": [
    "# Aggregate\n",
    "df18 = sub_2018.groupby('EMAIL').agg({\"FIRST_ORDER_AT\":'min',\\\n",
    "                                'TOTAL_ORDER_VALUE':'mean',\\\n",
    "                                'TOTAL_ORDERS':'mean'\\\n",
    "                                ,'ITEM_GENDER':'last',\\\n",
    "                                'ITEM_SUB_TYPE':'last',\\\n",
    "                                'ITEM_PRODUCT_CORE_CATEGORY':'last'\\\n",
    "                               })\n",
    "df18.shape"
   ]
  },
  {
   "cell_type": "code",
   "execution_count": 23,
   "metadata": {},
   "outputs": [
    {
     "data": {
      "text/plain": [
       "(49744, 6)"
      ]
     },
     "execution_count": 23,
     "metadata": {},
     "output_type": "execute_result"
    }
   ],
   "source": [
    "# Aggregate\n",
    "df19 = sub_2019.groupby('EMAIL').agg({\"FIRST_ORDER_AT\":'min',\\\n",
    "                                'TOTAL_ORDER_VALUE':'mean',\\\n",
    "                                'TOTAL_ORDERS':'mean'\\\n",
    "                                ,'ITEM_GENDER':'last',\\\n",
    "                                'ITEM_SUB_TYPE':'last',\\\n",
    "                                'ITEM_PRODUCT_CORE_CATEGORY':'last'\\\n",
    "                               })\n",
    "df19.shape"
   ]
  },
  {
   "cell_type": "code",
   "execution_count": 24,
   "metadata": {},
   "outputs": [
    {
     "data": {
      "text/plain": [
       "(82292, 6)"
      ]
     },
     "execution_count": 24,
     "metadata": {},
     "output_type": "execute_result"
    }
   ],
   "source": [
    "# Aggregate\n",
    "df20 = sub_2020.groupby('EMAIL').agg({\"FIRST_ORDER_AT\":'min',\\\n",
    "                                'TOTAL_ORDER_VALUE':'mean',\\\n",
    "                                'TOTAL_ORDERS':'mean'\\\n",
    "                                ,'ITEM_GENDER':'last',\\\n",
    "                                'ITEM_SUB_TYPE':'last',\\\n",
    "                                'ITEM_PRODUCT_CORE_CATEGORY':'last'\\\n",
    "                               })\n",
    "df20.shape"
   ]
  },
  {
   "cell_type": "code",
   "execution_count": 25,
   "metadata": {},
   "outputs": [
    {
     "data": {
      "text/plain": [
       "(19819, 6)"
      ]
     },
     "execution_count": 25,
     "metadata": {},
     "output_type": "execute_result"
    }
   ],
   "source": [
    "# Aggregate\n",
    "df21 = sub_2021.groupby('EMAIL').agg({\"FIRST_ORDER_AT\":'min',\\\n",
    "                                'TOTAL_ORDER_VALUE':'mean',\\\n",
    "                                'TOTAL_ORDERS':'mean'\\\n",
    "                                ,'ITEM_GENDER':'last',\\\n",
    "                                'ITEM_SUB_TYPE':'last',\\\n",
    "                                'ITEM_PRODUCT_CORE_CATEGORY':'last'\\\n",
    "                               })\n",
    "df21.shape"
   ]
  },
  {
   "cell_type": "code",
   "execution_count": 26,
   "metadata": {},
   "outputs": [],
   "source": [
    "sub1=pd.merge(sub_2019,sub_2018,how='outer')\n",
    "sub2=pd.merge(sub_2020,sub_2021,how='outer')\n",
    "sub3=pd.merge(sub1,sub2,how='outer')"
   ]
  },
  {
   "cell_type": "code",
   "execution_count": 27,
   "metadata": {
    "scrolled": true
   },
   "outputs": [
    {
     "data": {
      "text/plain": [
       "(170825, 6)"
      ]
     },
     "execution_count": 27,
     "metadata": {},
     "output_type": "execute_result"
    }
   ],
   "source": [
    "sub3 = sub3.groupby('EMAIL').agg({\"FIRST_ORDER_AT\":'min',\\\n",
    "                                'TOTAL_ORDER_VALUE':'mean',\\\n",
    "                                'TOTAL_ORDERS':'mean'\\\n",
    "                                ,'ITEM_GENDER':'last',\\\n",
    "                                'ITEM_SUB_TYPE':'last',\\\n",
    "                                'ITEM_PRODUCT_CORE_CATEGORY':'last'\\\n",
    "                               })\n",
    "sub3.shape"
   ]
  },
  {
   "cell_type": "markdown",
   "metadata": {},
   "source": [
    "## Merge"
   ]
  },
  {
   "cell_type": "code",
   "execution_count": 28,
   "metadata": {
    "scrolled": true
   },
   "outputs": [
    {
     "name": "stdout",
     "output_type": "stream",
     "text": [
      "<class 'pandas.core.frame.DataFrame'>\n",
      "Int64Index: 265 entries, 0 to 264\n",
      "Data columns (total 25 columns):\n",
      " #   Column                      Non-Null Count  Dtype         \n",
      "---  ------                      --------------  -----         \n",
      " 0   Start Time                  265 non-null    datetime64[ns]\n",
      " 1   End Time                    265 non-null    object        \n",
      " 2   First Name                  265 non-null    object        \n",
      " 3   Last Name                   265 non-null    object        \n",
      " 4   Phone                       265 non-null    object        \n",
      " 5   Email                       265 non-null    object        \n",
      " 6   Type                        265 non-null    object        \n",
      " 7   Calendar                    265 non-null    object        \n",
      " 8   Appointment Price           265 non-null    float64       \n",
      " 9   Paid?                       265 non-null    object        \n",
      " 10  Amount Paid Online          265 non-null    float64       \n",
      " 11  Date Scheduled              265 non-null    object        \n",
      " 12  Scheduled By                265 non-null    object        \n",
      " 13  Campaign                    265 non-null    object        \n",
      " 14  Appointment ID              265 non-null    int64         \n",
      " 15  APPOINTMENT_BODY_DATE       205 non-null    datetime64[ns]\n",
      " 16  APPOINTMENT_BODY_TYPE       205 non-null    object        \n",
      " 17  APPOINTMENT_BODY_CALENDAR   205 non-null    object        \n",
      " 18  APPOINTMENT_BODY_ID         205 non-null    float64       \n",
      " 19  FIRST_ORDER_AT              217 non-null    datetime64[ns]\n",
      " 20  TOTAL_ORDER_VALUE           217 non-null    float64       \n",
      " 21  TOTAL_ORDERS                217 non-null    float64       \n",
      " 22  ITEM_GENDER                 217 non-null    object        \n",
      " 23  ITEM_SUB_TYPE               217 non-null    object        \n",
      " 24  ITEM_PRODUCT_CORE_CATEGORY  217 non-null    object        \n",
      "dtypes: datetime64[ns](3), float64(5), int64(1), object(16)\n",
      "memory usage: 53.8+ KB\n"
     ]
    }
   ],
   "source": [
    "sub = pd.merge(acuity,sub3, how='left',left_on='Email',right_on='EMAIL',copy=False)\n",
    "sub.info()"
   ]
  },
  {
   "cell_type": "code",
   "execution_count": 29,
   "metadata": {},
   "outputs": [
    {
     "data": {
      "text/plain": [
       "GrowthPlan      89\n",
       "GrowthPlan 3    86\n",
       "GrowthPlan 2    42\n",
       "Name: ITEM_SUB_TYPE, dtype: int64"
      ]
     },
     "execution_count": 29,
     "metadata": {},
     "output_type": "execute_result"
    }
   ],
   "source": [
    "# clean up item sub\n",
    "sub.loc[sub['ITEM_SUB_TYPE'] =='GrowthPlan,GrowthPlan']= 'GrowthPlan'\n",
    "sub.loc[sub['ITEM_SUB_TYPE'] =='GrowthPlan 3,GrowthPlan 3']= 'GrowthPlan 3'\n",
    "sub.loc[sub['ITEM_SUB_TYPE'] =='GrowthPlan,GrowthPlan 3']= 'GrowthPlan'\n",
    "sub.loc[sub['ITEM_SUB_TYPE'] =='GrowthPlan 2,GrowthPlan']= 'GrowthPlan 2'\n",
    "sub.loc[sub['ITEM_SUB_TYPE'] =='GrowthPlan 3,GrowthPlan 2']= 'GrowthPlan 3'\n",
    "sub.loc[sub['ITEM_SUB_TYPE'] =='GrowthPlan,GrowthPlan 2']= 'GrowthPlan'\n",
    "sub.loc[sub['ITEM_SUB_TYPE'] =='GrowthPlan 3,GrowthPlan']= 'GrowthPlan 3'\n",
    "sub.loc[sub['ITEM_SUB_TYPE'] =='GrowthPlan 2,GrowthPlan 2']= 'GrowthPlan 2'\n",
    "sub.loc[sub['ITEM_SUB_TYPE'] =='GrowthPlan 3,Non-Sub']= 'GrowthPlan 3'\n",
    "\n",
    "sub['ITEM_SUB_TYPE'].value_counts()"
   ]
  },
  {
   "cell_type": "code",
   "execution_count": 30,
   "metadata": {},
   "outputs": [
    {
     "data": {
      "text/plain": [
       "Women      115\n",
       "Balance     66\n",
       "Men         36\n",
       "Name: ITEM_PRODUCT_CORE_CATEGORY, dtype: int64"
      ]
     },
     "execution_count": 30,
     "metadata": {},
     "output_type": "execute_result"
    }
   ],
   "source": [
    "sub.loc[sub['ITEM_PRODUCT_CORE_CATEGORY'] =='Men,Men']= 'Men'\n",
    "sub.loc[sub['ITEM_PRODUCT_CORE_CATEGORY'] =='GrowthPlan']= 'Balance'\n",
    "sub.loc[sub['ITEM_PRODUCT_CORE_CATEGORY'] =='GrowthPlan 2']= 'Balance'\n",
    "sub.loc[sub['ITEM_PRODUCT_CORE_CATEGORY'] =='GrowthPlan 3']= 'Balance'\n",
    "\n",
    "sub['ITEM_PRODUCT_CORE_CATEGORY'].value_counts()"
   ]
  },
  {
   "cell_type": "code",
   "execution_count": 31,
   "metadata": {},
   "outputs": [
    {
     "data": {
      "text/html": [
       "<div>\n",
       "<style scoped>\n",
       "    .dataframe tbody tr th:only-of-type {\n",
       "        vertical-align: middle;\n",
       "    }\n",
       "\n",
       "    .dataframe tbody tr th {\n",
       "        vertical-align: top;\n",
       "    }\n",
       "\n",
       "    .dataframe thead th {\n",
       "        text-align: right;\n",
       "    }\n",
       "</style>\n",
       "<table border=\"1\" class=\"dataframe\">\n",
       "  <thead>\n",
       "    <tr style=\"text-align: right;\">\n",
       "      <th></th>\n",
       "      <th>Start Time</th>\n",
       "      <th>End Time</th>\n",
       "      <th>First Name</th>\n",
       "      <th>Last Name</th>\n",
       "      <th>Phone</th>\n",
       "      <th>Email</th>\n",
       "      <th>Type</th>\n",
       "      <th>Calendar</th>\n",
       "      <th>Appointment Price</th>\n",
       "      <th>Paid?</th>\n",
       "      <th>...</th>\n",
       "      <th>APPOINTMENT_BODY_DATE</th>\n",
       "      <th>APPOINTMENT_BODY_TYPE</th>\n",
       "      <th>APPOINTMENT_BODY_CALENDAR</th>\n",
       "      <th>APPOINTMENT_BODY_ID</th>\n",
       "      <th>FIRST_ORDER_AT</th>\n",
       "      <th>TOTAL_ORDER_VALUE</th>\n",
       "      <th>TOTAL_ORDERS</th>\n",
       "      <th>ITEM_GENDER</th>\n",
       "      <th>ITEM_SUB_TYPE</th>\n",
       "      <th>ITEM_PRODUCT_CORE_CATEGORY</th>\n",
       "    </tr>\n",
       "  </thead>\n",
       "  <tbody>\n",
       "    <tr>\n",
       "      <th>count</th>\n",
       "      <td>265</td>\n",
       "      <td>265</td>\n",
       "      <td>265</td>\n",
       "      <td>265</td>\n",
       "      <td>265</td>\n",
       "      <td>265</td>\n",
       "      <td>265</td>\n",
       "      <td>265</td>\n",
       "      <td>265.0</td>\n",
       "      <td>265</td>\n",
       "      <td>...</td>\n",
       "      <td>205</td>\n",
       "      <td>205</td>\n",
       "      <td>205</td>\n",
       "      <td>205</td>\n",
       "      <td>217</td>\n",
       "      <td>217.0</td>\n",
       "      <td>217.0</td>\n",
       "      <td>217</td>\n",
       "      <td>217</td>\n",
       "      <td>217</td>\n",
       "    </tr>\n",
       "    <tr>\n",
       "      <th>unique</th>\n",
       "      <td>253</td>\n",
       "      <td>257</td>\n",
       "      <td>221</td>\n",
       "      <td>261</td>\n",
       "      <td>264</td>\n",
       "      <td>264</td>\n",
       "      <td>3</td>\n",
       "      <td>10</td>\n",
       "      <td>2.0</td>\n",
       "      <td>2</td>\n",
       "      <td>...</td>\n",
       "      <td>35</td>\n",
       "      <td>4</td>\n",
       "      <td>10</td>\n",
       "      <td>204</td>\n",
       "      <td>216</td>\n",
       "      <td>150.0</td>\n",
       "      <td>26.0</td>\n",
       "      <td>3</td>\n",
       "      <td>4</td>\n",
       "      <td>3</td>\n",
       "    </tr>\n",
       "    <tr>\n",
       "      <th>top</th>\n",
       "      <td>2021-01-27 13:00:00</td>\n",
       "      <td>February 10, 2021 9:25 am</td>\n",
       "      <td>Nicole</td>\n",
       "      <td>Thompson</td>\n",
       "      <td>Balance</td>\n",
       "      <td>Balance</td>\n",
       "      <td>Hair Consultation</td>\n",
       "      <td>Dr. Ariana Zastrow, ND</td>\n",
       "      <td>0.0</td>\n",
       "      <td>no</td>\n",
       "      <td>...</td>\n",
       "      <td>2021-02-16 00:00:00</td>\n",
       "      <td>Hair Consultation</td>\n",
       "      <td>Dr. Ariana Zastrow, ND</td>\n",
       "      <td>Balance</td>\n",
       "      <td>Balance</td>\n",
       "      <td>99.0</td>\n",
       "      <td>2.0</td>\n",
       "      <td>Women</td>\n",
       "      <td>GrowthPlan</td>\n",
       "      <td>Women</td>\n",
       "    </tr>\n",
       "    <tr>\n",
       "      <th>freq</th>\n",
       "      <td>3</td>\n",
       "      <td>2</td>\n",
       "      <td>3</td>\n",
       "      <td>2</td>\n",
       "      <td>2</td>\n",
       "      <td>2</td>\n",
       "      <td>185</td>\n",
       "      <td>62</td>\n",
       "      <td>263.0</td>\n",
       "      <td>263</td>\n",
       "      <td>...</td>\n",
       "      <td>13</td>\n",
       "      <td>169</td>\n",
       "      <td>53</td>\n",
       "      <td>2</td>\n",
       "      <td>2</td>\n",
       "      <td>6.0</td>\n",
       "      <td>28.0</td>\n",
       "      <td>179</td>\n",
       "      <td>87</td>\n",
       "      <td>115</td>\n",
       "    </tr>\n",
       "  </tbody>\n",
       "</table>\n",
       "<p>4 rows × 25 columns</p>\n",
       "</div>"
      ],
      "text/plain": [
       "                 Start Time                   End Time First Name Last Name  \\\n",
       "count                   265                        265        265       265   \n",
       "unique                  253                        257        221       261   \n",
       "top     2021-01-27 13:00:00  February 10, 2021 9:25 am     Nicole  Thompson   \n",
       "freq                      3                          2          3         2   \n",
       "\n",
       "          Phone    Email               Type                 Calendar  \\\n",
       "count       265      265                265                      265   \n",
       "unique      264      264                  3                       10   \n",
       "top     Balance  Balance  Hair Consultation  Dr. Ariana Zastrow, ND    \n",
       "freq          2        2                185                       62   \n",
       "\n",
       "        Appointment Price Paid?  ...  APPOINTMENT_BODY_DATE  \\\n",
       "count               265.0   265  ...                    205   \n",
       "unique                2.0     2  ...                     35   \n",
       "top                   0.0    no  ...    2021-02-16 00:00:00   \n",
       "freq                263.0   263  ...                     13   \n",
       "\n",
       "       APPOINTMENT_BODY_TYPE APPOINTMENT_BODY_CALENDAR APPOINTMENT_BODY_ID  \\\n",
       "count                    205                       205                 205   \n",
       "unique                     4                        10                 204   \n",
       "top        Hair Consultation   Dr. Ariana Zastrow, ND              Balance   \n",
       "freq                     169                        53                   2   \n",
       "\n",
       "       FIRST_ORDER_AT TOTAL_ORDER_VALUE TOTAL_ORDERS ITEM_GENDER  \\\n",
       "count             217             217.0        217.0         217   \n",
       "unique            216             150.0         26.0           3   \n",
       "top           Balance              99.0          2.0       Women   \n",
       "freq                2               6.0         28.0         179   \n",
       "\n",
       "       ITEM_SUB_TYPE ITEM_PRODUCT_CORE_CATEGORY  \n",
       "count            217                        217  \n",
       "unique             4                          3  \n",
       "top       GrowthPlan                      Women  \n",
       "freq              87                        115  \n",
       "\n",
       "[4 rows x 25 columns]"
      ]
     },
     "execution_count": 31,
     "metadata": {},
     "output_type": "execute_result"
    }
   ],
   "source": [
    "# Export data\n",
    "sub.to_csv('intake_sub.csv')\n",
    "sub.describe()"
   ]
  },
  {
   "cell_type": "code",
   "execution_count": null,
   "metadata": {},
   "outputs": [],
   "source": []
  },
  {
   "cell_type": "code",
   "execution_count": null,
   "metadata": {},
   "outputs": [],
   "source": []
  },
  {
   "cell_type": "code",
   "execution_count": null,
   "metadata": {},
   "outputs": [],
   "source": []
  },
  {
   "cell_type": "code",
   "execution_count": null,
   "metadata": {},
   "outputs": [],
   "source": []
  },
  {
   "cell_type": "code",
   "execution_count": null,
   "metadata": {},
   "outputs": [],
   "source": []
  },
  {
   "cell_type": "code",
   "execution_count": null,
   "metadata": {},
   "outputs": [],
   "source": []
  },
  {
   "cell_type": "code",
   "execution_count": null,
   "metadata": {},
   "outputs": [],
   "source": []
  }
 ],
 "metadata": {
  "kernelspec": {
   "display_name": "Python 3",
   "language": "python",
   "name": "python3"
  },
  "language_info": {
   "codemirror_mode": {
    "name": "ipython",
    "version": 3
   },
   "file_extension": ".py",
   "mimetype": "text/x-python",
   "name": "python",
   "nbconvert_exporter": "python",
   "pygments_lexer": "ipython3",
   "version": "3.7.9"
  },
  "toc": {
   "base_numbering": 1,
   "nav_menu": {},
   "number_sections": true,
   "sideBar": true,
   "skip_h1_title": false,
   "title_cell": "Table of Contents",
   "title_sidebar": "Contents",
   "toc_cell": false,
   "toc_position": {
    "height": "calc(100% - 180px)",
    "left": "10px",
    "top": "150px",
    "width": "235.75px"
   },
   "toc_section_display": true,
   "toc_window_display": true
  }
 },
 "nbformat": 4,
 "nbformat_minor": 2
}
