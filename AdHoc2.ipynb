{
 "cells": [
  {
   "cell_type": "markdown",
   "metadata": {},
   "source": [
    "# Imports"
   ]
  },
  {
   "cell_type": "code",
   "execution_count": 1,
   "metadata": {},
   "outputs": [],
   "source": [
    "# Import standard libraries\n",
    "import pandas as pd\n",
    "import seaborn as sns\n",
    "import numpy as np\n",
    "import matplotlib.pyplot as plt\n",
    "%matplotlib inline\n",
    "\n",
    "# Date\n",
    "import datetime as dt\n",
    "import time\n",
    "from datetime import timedelta"
   ]
  },
  {
   "cell_type": "code",
   "execution_count": 2,
   "metadata": {},
   "outputs": [],
   "source": [
    "silver = pd.read_csv('Acuity.csv')\n",
    "\n",
    "sub_20192 = pd.read_csv('2019-2.csv')\n",
    "sub_2020 = pd.read_csv('2020.csv')\n",
    "sub_2021 = pd.read_csv('2021.csv')"
   ]
  },
  {
   "cell_type": "markdown",
   "metadata": {},
   "source": [
    "## Acuity"
   ]
  },
  {
   "cell_type": "code",
   "execution_count": 3,
   "metadata": {},
   "outputs": [
    {
     "data": {
      "text/plain": [
       "(26176, 20)"
      ]
     },
     "execution_count": 3,
     "metadata": {},
     "output_type": "execute_result"
    }
   ],
   "source": [
    "# Create a copy of the DB\n",
    "silver_acuity = silver.copy()\n",
    "silver_acuity.shape"
   ]
  },
  {
   "cell_type": "code",
   "execution_count": 4,
   "metadata": {},
   "outputs": [
    {
     "data": {
      "text/plain": [
       "appointment_changed        19261\n",
       "appointment_scheduled       5664\n",
       "appointment_rescheduled      774\n",
       "appointment_canceled         477\n",
       "Name: EVENT, dtype: int64"
      ]
     },
     "execution_count": 4,
     "metadata": {},
     "output_type": "execute_result"
    }
   ],
   "source": [
    "# Change dates to datetime Dtype\n",
    "silver_acuity['APPOINTMENT_BODY_DATE'] = pd.to_datetime(silver_acuity['APPOINTMENT_BODY_DATE'])\n",
    "\n",
    "# Drop unneeded columns\n",
    "silver_acuity.drop(columns=['EVENT_TS', 'EVENT_TS_UTC', 'ANONYMOUS_ID','APPOINTMENT_BODY_FIRST_NAME',\n",
    "       'APPOINTMENT_BODY_DATETIME_CREATED', 'APPOINTMENT_BODY_CALENDAR_ID','APPOINTMENT_BODY_CALENDAR_TIMEZONE',\\\n",
    "                    'APPOINTMENT_BODY_TIMEZONE', 'APPOINTMENT_BODY_LAST_NAME', 'APPOINTMENT_BODY_ID',\\\n",
    "                    'APPOINTMENT_BODY_NO_SHOW', \\\n",
    "                    'APPOINTMENT_TYPE_ID'], inplace=True)\n",
    "\n",
    "silver_acuity['EVENT'].value_counts()"
   ]
  },
  {
   "cell_type": "code",
   "execution_count": 5,
   "metadata": {
    "scrolled": true
   },
   "outputs": [
    {
     "data": {
      "text/plain": [
       "appointment_scheduled    5549\n",
       "Name: EVENT, dtype: int64"
      ]
     },
     "execution_count": 5,
     "metadata": {},
     "output_type": "execute_result"
    }
   ],
   "source": [
    "# drop irrelevant appointments\n",
    "na_dict= {'appointment_canceled' : np.nan,\n",
    "'appointment_changed' : np.nan,\n",
    "'appointment_rescheduled' : np.nan}\n",
    "\n",
    "silver_acuity['EVENT'].replace(na_dict, inplace = True)\n",
    "silver_acuity.dropna(inplace = True)\n",
    "silver_acuity['EVENT'].value_counts()"
   ]
  },
  {
   "cell_type": "code",
   "execution_count": 6,
   "metadata": {},
   "outputs": [
    {
     "data": {
      "text/plain": [
       "False    5548\n",
       "True        1\n",
       "Name: APPOINTMENT_BODY_CANCELED, dtype: int64"
      ]
     },
     "execution_count": 6,
     "metadata": {},
     "output_type": "execute_result"
    }
   ],
   "source": [
    "silver_acuity['APPOINTMENT_BODY_CANCELED'].value_counts()"
   ]
  },
  {
   "cell_type": "code",
   "execution_count": 7,
   "metadata": {},
   "outputs": [
    {
     "data": {
      "text/plain": [
       "Hair Consultation                      4680\n",
       "Hair Mineral Analysis Appointment       648\n",
       "Follow Up Consultation                  147\n",
       "Customer consultation                    66\n",
       "Case Study                                5\n",
       "Hair Mineral Analysis - Acquisition       3\n",
       "Name: APPOINTMENT_BODY_TYPE, dtype: int64"
      ]
     },
     "execution_count": 7,
     "metadata": {},
     "output_type": "execute_result"
    }
   ],
   "source": [
    "silver_acuity['APPOINTMENT_BODY_TYPE'].value_counts()"
   ]
  },
  {
   "cell_type": "code",
   "execution_count": 8,
   "metadata": {},
   "outputs": [
    {
     "data": {
      "text/plain": [
       "Hair Consultation                    4680\n",
       "Hair Mineral Analysis Appointment     648\n",
       "Name: APPOINTMENT_BODY_TYPE, dtype: int64"
      ]
     },
     "execution_count": 8,
     "metadata": {},
     "output_type": "execute_result"
    }
   ],
   "source": [
    "# drop irrelevant appointments\n",
    "na_dict= {'Hair Mineral Analysis - Acquisition':np.nan,\n",
    "          'Follow Up Consultation':np.nan,\n",
    "          'Customer consultation':np.nan,\n",
    "          'Case Study':np.nan}\n",
    "\n",
    "silver_acuity['APPOINTMENT_BODY_TYPE'].replace(na_dict, inplace = True)\n",
    "silver_acuity.dropna(inplace = True)\n",
    "silver_acuity['APPOINTMENT_BODY_TYPE'].value_counts()"
   ]
  },
  {
   "cell_type": "code",
   "execution_count": 9,
   "metadata": {},
   "outputs": [
    {
     "data": {
      "text/plain": [
       "(5328, 8)"
      ]
     },
     "execution_count": 9,
     "metadata": {},
     "output_type": "execute_result"
    }
   ],
   "source": [
    "silver_acuity.shape"
   ]
  },
  {
   "cell_type": "code",
   "execution_count": 10,
   "metadata": {},
   "outputs": [
    {
     "data": {
      "text/plain": [
       "True     4667\n",
       "False     661\n",
       "Name: Complete, dtype: int64"
      ]
     },
     "execution_count": 10,
     "metadata": {},
     "output_type": "execute_result"
    }
   ],
   "source": [
    "#Round to the day\n",
    "silver_acuity['APPOINTMENT_BODY_DATE'] = silver_acuity['APPOINTMENT_BODY_DATE'].dt.round('D')\n",
    "\n",
    "silver_acuity['Today'] = pd.Timestamp('today')\n",
    "silver_acuity['Today'] = silver_acuity['Today'].dt.round('D')\n",
    "\n",
    "silver_acuity['Complete'] = (silver_acuity['Today']>silver_acuity['APPOINTMENT_BODY_DATE'])\n",
    "silver_acuity['Complete'].value_counts()"
   ]
  },
  {
   "cell_type": "code",
   "execution_count": 11,
   "metadata": {
    "scrolled": true
   },
   "outputs": [
    {
     "data": {
      "text/plain": [
       "True    4667\n",
       "Name: Complete, dtype: int64"
      ]
     },
     "execution_count": 11,
     "metadata": {},
     "output_type": "execute_result"
    }
   ],
   "source": [
    "# Remove appointments in the future\n",
    "silver_acuity['Complete'] = silver_acuity['Complete'].astype('str')\n",
    "\n",
    "# drop irrelevant appointments\n",
    "na_dict= {'False' : np.nan}\n",
    "\n",
    "silver_acuity['Complete'].replace(na_dict, inplace = True)\n",
    "silver_acuity.dropna(inplace = True)\n",
    "silver_acuity['Complete'].value_counts()"
   ]
  },
  {
   "cell_type": "code",
   "execution_count": 13,
   "metadata": {},
   "outputs": [
    {
     "data": {
      "text/plain": [
       "<matplotlib.legend.Legend at 0x7f84575d1510>"
      ]
     },
     "execution_count": 13,
     "metadata": {},
     "output_type": "execute_result"
    },
    {
     "data": {
      "image/png": "[encoded data removed]",
      "text/plain": [
       "<Figure size 432x288 with 1 Axes>"
      ]
     },
     "metadata": {
      "needs_background": "light"
     },
     "output_type": "display_data"
    }
   ],
   "source": [
    "(silver_acuity.groupby([silver_acuity['APPOINTMENT_BODY_DATE'].dt.dayofweek,\\\n",
    "                       silver_acuity['APPOINTMENT_BODY_DATE'].dt.year])\\\n",
    " ['EVENT'].count()).unstack().plot(kind='line')\n",
    "plt.legend(loc='center left', bbox_to_anchor=(1.0, 0.5))"
   ]
  },
  {
   "cell_type": "code",
   "execution_count": 14,
   "metadata": {},
   "outputs": [
    {
     "data": {
      "text/plain": [
       "Timestamp('2020-01-26 00:00:00')"
      ]
     },
     "execution_count": 14,
     "metadata": {},
     "output_type": "execute_result"
    }
   ],
   "source": [
    "min(silver_acuity['APPOINTMENT_BODY_DATE'])"
   ]
  },
  {
   "cell_type": "code",
   "execution_count": 15,
   "metadata": {},
   "outputs": [
    {
     "data": {
      "text/plain": [
       "Hair Consultation                    4087\n",
       "Hair Mineral Analysis Appointment     580\n",
       "Name: APPOINTMENT_BODY_TYPE, dtype: int64"
      ]
     },
     "execution_count": 15,
     "metadata": {},
     "output_type": "execute_result"
    }
   ],
   "source": [
    "silver_acuity['APPOINTMENT_BODY_TYPE'].value_counts()"
   ]
  },
  {
   "cell_type": "code",
   "execution_count": 16,
   "metadata": {
    "scrolled": false
   },
   "outputs": [
    {
     "name": "stdout",
     "output_type": "stream",
     "text": [
      "unique emails =  4014\n"
     ]
    }
   ],
   "source": [
    "#QA instances\n",
    "smail = silver_acuity['EMAIL'].nunique()\n",
    "print ('unique emails = ',smail)"
   ]
  },
  {
   "cell_type": "code",
   "execution_count": 17,
   "metadata": {},
   "outputs": [
    {
     "data": {
      "text/plain": [
       "(4014, 3)"
      ]
     },
     "execution_count": 17,
     "metadata": {},
     "output_type": "execute_result"
    }
   ],
   "source": [
    "clean_acuity = silver_acuity.groupby('EMAIL').agg({\"APPOINTMENT_BODY_DATE\":'min',\\\n",
    "                                'APPOINTMENT_BODY_TYPE':'last',\\\n",
    "                                'APPOINTMENT_BODY_CALENDAR':'last'\\\n",
    "                               })\n",
    "clean_acuity.shape"
   ]
  },
  {
   "cell_type": "markdown",
   "metadata": {},
   "source": [
    "## SUB"
   ]
  },
  {
   "cell_type": "code",
   "execution_count": 18,
   "metadata": {},
   "outputs": [
    {
     "name": "stdout",
     "output_type": "stream",
     "text": [
      "total (1147363, 7)\n",
      "1 (506714, 7)\n",
      "2 (640649, 7)\n"
     ]
    }
   ],
   "source": [
    "sub_2019=pd.merge(sub_20191,sub_20192,how='outer')\n",
    "print('total',sub_2019.shape)\n",
    "print('1',sub_20191.shape)\n",
    "print('2',sub_20192.shape)\n",
    "\n",
    "# Change dates to datetime\n",
    "sub_2019['FIRST_ORDER_AT'] = pd.to_datetime(sub_2019['FIRST_ORDER_AT'])\n",
    "sub_2020['FIRST_ORDER_AT'] = pd.to_datetime(sub_2020['FIRST_ORDER_AT'])\n",
    "sub_2021['FIRST_ORDER_AT'] = pd.to_datetime(sub_2021['FIRST_ORDER_AT'])"
   ]
  },
  {
   "cell_type": "code",
   "execution_count": 19,
   "metadata": {},
   "outputs": [
    {
     "name": "stdout",
     "output_type": "stream",
     "text": [
      "2019 =  (1147363, 7)\n",
      "2019 unique emails =  49744\n",
      "2020 =  (727153, 7)\n",
      "2020 unique emails =  82292\n",
      "2021 =  (34172, 7)\n",
      "2021 unique emails =  19819\n"
     ]
    }
   ],
   "source": [
    "# min(gold['FIRST_ORDER_AT'])\n",
    "# max(gold['FIRST_ORDER_AT'])\n",
    "\n",
    "s19 = sub_2019.shape\n",
    "email19 = sub_2019['EMAIL'].nunique()\n",
    "print ('2019 = ',s19)\n",
    "print ('2019 unique emails = ',email19)\n",
    "\n",
    "s20 = sub_2020.shape\n",
    "email20 = sub_2020['EMAIL'].nunique()\n",
    "print ('2020 = ',s20)\n",
    "print ('2020 unique emails = ',email20)\n",
    "\n",
    "s21 = sub_2021.shape\n",
    "email21 = sub_2021['EMAIL'].nunique()\n",
    "print ('2021 = ',s21)\n",
    "print ('2021 unique emails = ',email21)"
   ]
  },
  {
   "cell_type": "code",
   "execution_count": 20,
   "metadata": {},
   "outputs": [
    {
     "data": {
      "text/plain": [
       "(49744, 6)"
      ]
     },
     "execution_count": 20,
     "metadata": {},
     "output_type": "execute_result"
    }
   ],
   "source": [
    "# Aggregate\n",
    "df19 = sub_2019.groupby('EMAIL').agg({\"FIRST_ORDER_AT\":'min',\\\n",
    "                                'TOTAL_ORDER_VALUE':'mean',\\\n",
    "                                'TOTAL_ORDERS':'mean'\\\n",
    "                                ,'ITEM_GENDER':'last',\\\n",
    "                                'ITEM_SUB_TYPE':'last',\\\n",
    "                                'ITEM_PRODUCT_CORE_CATEGORY':'last'\\\n",
    "                               })\n",
    "df19.shape"
   ]
  },
  {
   "cell_type": "code",
   "execution_count": 21,
   "metadata": {},
   "outputs": [
    {
     "data": {
      "text/plain": [
       "(82292, 6)"
      ]
     },
     "execution_count": 21,
     "metadata": {},
     "output_type": "execute_result"
    }
   ],
   "source": [
    "# Aggregate\n",
    "df20 = sub_2020.groupby('EMAIL').agg({\"FIRST_ORDER_AT\":'min',\\\n",
    "                                'TOTAL_ORDER_VALUE':'mean',\\\n",
    "                                'TOTAL_ORDERS':'mean'\\\n",
    "                                ,'ITEM_GENDER':'last',\\\n",
    "                                'ITEM_SUB_TYPE':'last',\\\n",
    "                                'ITEM_PRODUCT_CORE_CATEGORY':'last'\\\n",
    "                               })\n",
    "df20.shape"
   ]
  },
  {
   "cell_type": "code",
   "execution_count": 22,
   "metadata": {},
   "outputs": [
    {
     "data": {
      "text/plain": [
       "(19819, 6)"
      ]
     },
     "execution_count": 22,
     "metadata": {},
     "output_type": "execute_result"
    }
   ],
   "source": [
    "# Aggregate\n",
    "df21 = sub_2021.groupby('EMAIL').agg({\"FIRST_ORDER_AT\":'min',\\\n",
    "                                'TOTAL_ORDER_VALUE':'mean',\\\n",
    "                                'TOTAL_ORDERS':'mean'\\\n",
    "                                ,'ITEM_GENDER':'last',\\\n",
    "                                'ITEM_SUB_TYPE':'last',\\\n",
    "                                'ITEM_PRODUCT_CORE_CATEGORY':'last'\\\n",
    "                               })\n",
    "df21.shape"
   ]
  },
  {
   "cell_type": "code",
   "execution_count": 23,
   "metadata": {},
   "outputs": [
    {
     "data": {
      "text/html": [
       "<div>\n",
       "<style scoped>\n",
       "    .dataframe tbody tr th:only-of-type {\n",
       "        vertical-align: middle;\n",
       "    }\n",
       "\n",
       "    .dataframe tbody tr th {\n",
       "        vertical-align: top;\n",
       "    }\n",
       "\n",
       "    .dataframe thead th {\n",
       "        text-align: right;\n",
       "    }\n",
       "</style>\n",
       "<table border=\"1\" class=\"dataframe\">\n",
       "  <thead>\n",
       "    <tr style=\"text-align: right;\">\n",
       "      <th></th>\n",
       "      <th>TOTAL_ORDER_VALUE</th>\n",
       "      <th>TOTAL_ORDERS</th>\n",
       "    </tr>\n",
       "  </thead>\n",
       "  <tbody>\n",
       "    <tr>\n",
       "      <th>count</th>\n",
       "      <td>49742.000000</td>\n",
       "      <td>49742.000000</td>\n",
       "    </tr>\n",
       "    <tr>\n",
       "      <th>mean</th>\n",
       "      <td>591.101872</td>\n",
       "      <td>7.028949</td>\n",
       "    </tr>\n",
       "    <tr>\n",
       "      <th>std</th>\n",
       "      <td>502.377704</td>\n",
       "      <td>5.712858</td>\n",
       "    </tr>\n",
       "    <tr>\n",
       "      <th>min</th>\n",
       "      <td>-32.000000</td>\n",
       "      <td>1.000000</td>\n",
       "    </tr>\n",
       "    <tr>\n",
       "      <th>25%</th>\n",
       "      <td>198.000000</td>\n",
       "      <td>2.000000</td>\n",
       "    </tr>\n",
       "    <tr>\n",
       "      <th>50%</th>\n",
       "      <td>404.000000</td>\n",
       "      <td>5.000000</td>\n",
       "    </tr>\n",
       "    <tr>\n",
       "      <th>75%</th>\n",
       "      <td>881.000000</td>\n",
       "      <td>10.000000</td>\n",
       "    </tr>\n",
       "    <tr>\n",
       "      <th>max</th>\n",
       "      <td>5688.000000</td>\n",
       "      <td>47.000000</td>\n",
       "    </tr>\n",
       "  </tbody>\n",
       "</table>\n",
       "</div>"
      ],
      "text/plain": [
       "       TOTAL_ORDER_VALUE  TOTAL_ORDERS\n",
       "count       49742.000000  49742.000000\n",
       "mean          591.101872      7.028949\n",
       "std           502.377704      5.712858\n",
       "min           -32.000000      1.000000\n",
       "25%           198.000000      2.000000\n",
       "50%           404.000000      5.000000\n",
       "75%           881.000000     10.000000\n",
       "max          5688.000000     47.000000"
      ]
     },
     "execution_count": 23,
     "metadata": {},
     "output_type": "execute_result"
    }
   ],
   "source": [
    "df19.describe()"
   ]
  },
  {
   "cell_type": "code",
   "execution_count": 24,
   "metadata": {},
   "outputs": [
    {
     "data": {
      "text/html": [
       "<div>\n",
       "<style scoped>\n",
       "    .dataframe tbody tr th:only-of-type {\n",
       "        vertical-align: middle;\n",
       "    }\n",
       "\n",
       "    .dataframe tbody tr th {\n",
       "        vertical-align: top;\n",
       "    }\n",
       "\n",
       "    .dataframe thead th {\n",
       "        text-align: right;\n",
       "    }\n",
       "</style>\n",
       "<table border=\"1\" class=\"dataframe\">\n",
       "  <thead>\n",
       "    <tr style=\"text-align: right;\">\n",
       "      <th></th>\n",
       "      <th>TOTAL_ORDER_VALUE</th>\n",
       "      <th>TOTAL_ORDERS</th>\n",
       "    </tr>\n",
       "  </thead>\n",
       "  <tbody>\n",
       "    <tr>\n",
       "      <th>count</th>\n",
       "      <td>82277.000000</td>\n",
       "      <td>82277.000000</td>\n",
       "    </tr>\n",
       "    <tr>\n",
       "      <th>mean</th>\n",
       "      <td>368.919930</td>\n",
       "      <td>4.458694</td>\n",
       "    </tr>\n",
       "    <tr>\n",
       "      <th>std</th>\n",
       "      <td>259.610407</td>\n",
       "      <td>2.859405</td>\n",
       "    </tr>\n",
       "    <tr>\n",
       "      <th>min</th>\n",
       "      <td>-32.000000</td>\n",
       "      <td>1.000000</td>\n",
       "    </tr>\n",
       "    <tr>\n",
       "      <th>25%</th>\n",
       "      <td>168.000000</td>\n",
       "      <td>2.000000</td>\n",
       "    </tr>\n",
       "    <tr>\n",
       "      <th>50%</th>\n",
       "      <td>306.000000</td>\n",
       "      <td>4.000000</td>\n",
       "    </tr>\n",
       "    <tr>\n",
       "      <th>75%</th>\n",
       "      <td>495.000000</td>\n",
       "      <td>6.000000</td>\n",
       "    </tr>\n",
       "    <tr>\n",
       "      <th>max</th>\n",
       "      <td>3777.000000</td>\n",
       "      <td>61.000000</td>\n",
       "    </tr>\n",
       "  </tbody>\n",
       "</table>\n",
       "</div>"
      ],
      "text/plain": [
       "       TOTAL_ORDER_VALUE  TOTAL_ORDERS\n",
       "count       82277.000000  82277.000000\n",
       "mean          368.919930      4.458694\n",
       "std           259.610407      2.859405\n",
       "min           -32.000000      1.000000\n",
       "25%           168.000000      2.000000\n",
       "50%           306.000000      4.000000\n",
       "75%           495.000000      6.000000\n",
       "max          3777.000000     61.000000"
      ]
     },
     "execution_count": 24,
     "metadata": {},
     "output_type": "execute_result"
    }
   ],
   "source": [
    "df20.describe()"
   ]
  },
  {
   "cell_type": "code",
   "execution_count": 25,
   "metadata": {
    "scrolled": true
   },
   "outputs": [
    {
     "data": {
      "text/html": [
       "<div>\n",
       "<style scoped>\n",
       "    .dataframe tbody tr th:only-of-type {\n",
       "        vertical-align: middle;\n",
       "    }\n",
       "\n",
       "    .dataframe tbody tr th {\n",
       "        vertical-align: top;\n",
       "    }\n",
       "\n",
       "    .dataframe thead th {\n",
       "        text-align: right;\n",
       "    }\n",
       "</style>\n",
       "<table border=\"1\" class=\"dataframe\">\n",
       "  <thead>\n",
       "    <tr style=\"text-align: right;\">\n",
       "      <th></th>\n",
       "      <th>TOTAL_ORDER_VALUE</th>\n",
       "      <th>TOTAL_ORDERS</th>\n",
       "    </tr>\n",
       "  </thead>\n",
       "  <tbody>\n",
       "    <tr>\n",
       "      <th>count</th>\n",
       "      <td>19817.000000</td>\n",
       "      <td>19817.000000</td>\n",
       "    </tr>\n",
       "    <tr>\n",
       "      <th>mean</th>\n",
       "      <td>111.141881</td>\n",
       "      <td>1.329969</td>\n",
       "    </tr>\n",
       "    <tr>\n",
       "      <th>std</th>\n",
       "      <td>64.738798</td>\n",
       "      <td>0.499764</td>\n",
       "    </tr>\n",
       "    <tr>\n",
       "      <th>min</th>\n",
       "      <td>0.000000</td>\n",
       "      <td>1.000000</td>\n",
       "    </tr>\n",
       "    <tr>\n",
       "      <th>25%</th>\n",
       "      <td>79.000000</td>\n",
       "      <td>1.000000</td>\n",
       "    </tr>\n",
       "    <tr>\n",
       "      <th>50%</th>\n",
       "      <td>79.000000</td>\n",
       "      <td>1.000000</td>\n",
       "    </tr>\n",
       "    <tr>\n",
       "      <th>75%</th>\n",
       "      <td>158.000000</td>\n",
       "      <td>2.000000</td>\n",
       "    </tr>\n",
       "    <tr>\n",
       "      <th>max</th>\n",
       "      <td>1864.400000</td>\n",
       "      <td>8.000000</td>\n",
       "    </tr>\n",
       "  </tbody>\n",
       "</table>\n",
       "</div>"
      ],
      "text/plain": [
       "       TOTAL_ORDER_VALUE  TOTAL_ORDERS\n",
       "count       19817.000000  19817.000000\n",
       "mean          111.141881      1.329969\n",
       "std            64.738798      0.499764\n",
       "min             0.000000      1.000000\n",
       "25%            79.000000      1.000000\n",
       "50%            79.000000      1.000000\n",
       "75%           158.000000      2.000000\n",
       "max          1864.400000      8.000000"
      ]
     },
     "execution_count": 25,
     "metadata": {},
     "output_type": "execute_result"
    }
   ],
   "source": [
    "df21.describe()"
   ]
  },
  {
   "cell_type": "code",
   "execution_count": 26,
   "metadata": {},
   "outputs": [],
   "source": [
    "sub2=pd.merge(sub_2020,sub_2021,how='outer')\n",
    "sub3=pd.merge(sub_2019,sub2,how='outer')"
   ]
  },
  {
   "cell_type": "code",
   "execution_count": 27,
   "metadata": {
    "scrolled": true
   },
   "outputs": [
    {
     "data": {
      "text/plain": [
       "(151855, 6)"
      ]
     },
     "execution_count": 27,
     "metadata": {},
     "output_type": "execute_result"
    }
   ],
   "source": [
    "sub3 = sub3.groupby('EMAIL').agg({\"FIRST_ORDER_AT\":'min',\\\n",
    "                                'TOTAL_ORDER_VALUE':'mean',\\\n",
    "                                'TOTAL_ORDERS':'mean'\\\n",
    "                                ,'ITEM_GENDER':'last',\\\n",
    "                                'ITEM_SUB_TYPE':'last',\\\n",
    "                                'ITEM_PRODUCT_CORE_CATEGORY':'last'\\\n",
    "                               })\n",
    "sub3.shape"
   ]
  },
  {
   "cell_type": "code",
   "execution_count": 28,
   "metadata": {},
   "outputs": [
    {
     "data": {
      "text/plain": [
       "GrowthPlan                                             47413\n",
       "GrowthPlan 3                                           23282\n",
       "GrowthPlan 2                                           10325\n",
       "GrowthPlan,GrowthPlan                                    713\n",
       "GrowthPlan,GrowthPlan 3                                   85\n",
       "GrowthPlan 3,GrowthPlan                                   80\n",
       "GrowthPlan 3,GrowthPlan 3                                 76\n",
       "GrowthPlan,GrowthPlan 2                                   42\n",
       "Non-Sub,GrowthPlan                                        39\n",
       "GrowthPlan,Non-Sub                                        38\n",
       "GrowthPlan 2,GrowthPlan                                   37\n",
       "GrowthPlan 2,GrowthPlan 2                                 31\n",
       "GrowthPlan 2,GrowthPlan 3                                 20\n",
       "GrowthPlan 3,Non-Sub                                      18\n",
       "Non-Sub,GrowthPlan 3                                      17\n",
       "GrowthPlan 3,GrowthPlan 2                                 17\n",
       "GrowthPlan,GrowthPlan,GrowthPlan                          15\n",
       "Prepay 6                                                  13\n",
       "GrowthPlan 2,Non-Sub                                       9\n",
       "Non-Sub,GrowthPlan 2                                       6\n",
       "GrowthPlan,GrowthPlan,GrowthPlan 3                         3\n",
       "GrowthPlan,GrowthPlan 3,GrowthPlan                         2\n",
       "GrowthPlan,Prepay 6                                        1\n",
       "GrowthPlan,GrowthPlan,GrowthPlan 2                         1\n",
       "GrowthPlan 3,GrowthPlan 3,GrowthPlan,GrowthPlan            1\n",
       "GrowthPlan 3,GrowthPlan,GrowthPlan 3,GrowthPlan 3          1\n",
       "GrowthPlan 3,GrowthPlan 3,GrowthPlan 2,GrowthPlan 3        1\n",
       "GrowthPlan 3,Non-Sub,Non-Sub                               1\n",
       "Non-Sub,GrowthPlan 3,GrowthPlan 3                          1\n",
       "GrowthPlan 3,GrowthPlan,GrowthPlan 2                       1\n",
       "GrowthPlan 3,GrowthPlan,GrowthPlan                         1\n",
       "GrowthPlan,GrowthPlan 2,GrowthPlan                         1\n",
       "Name: ITEM_SUB_TYPE, dtype: int64"
      ]
     },
     "execution_count": 28,
     "metadata": {},
     "output_type": "execute_result"
    }
   ],
   "source": [
    "df20.ITEM_SUB_TYPE.value_counts()"
   ]
  },
  {
   "cell_type": "code",
   "execution_count": 29,
   "metadata": {},
   "outputs": [
    {
     "data": {
      "text/plain": [
       "GrowthPlan                                             88928\n",
       "GrowthPlan 3                                           47306\n",
       "GrowthPlan 2                                           13536\n",
       "GrowthPlan,GrowthPlan                                   1167\n",
       "GrowthPlan 3,GrowthPlan                                  157\n",
       "GrowthPlan,GrowthPlan 3                                  150\n",
       "GrowthPlan 3,GrowthPlan 3                                115\n",
       "GrowthPlan,Non-Sub                                        61\n",
       "Non-Sub,GrowthPlan                                        55\n",
       "GrowthPlan,GrowthPlan 2                                   54\n",
       "GrowthPlan 2,GrowthPlan                                   52\n",
       "GrowthPlan 3,Non-Sub                                      44\n",
       "Prepay 6                                                  43\n",
       "GrowthPlan 2,GrowthPlan 2                                 42\n",
       "Non-Sub,GrowthPlan 3                                      38\n",
       "GrowthPlan 2,GrowthPlan 3                                 24\n",
       "GrowthPlan,GrowthPlan,GrowthPlan                          23\n",
       "GrowthPlan 3,GrowthPlan 2                                 20\n",
       "GrowthPlan 2,Non-Sub                                      12\n",
       "Non-Sub,GrowthPlan 2                                       7\n",
       "GrowthPlan,GrowthPlan 3,GrowthPlan                         4\n",
       "GrowthPlan,GrowthPlan,GrowthPlan 3                         3\n",
       "GrowthPlan 3,GrowthPlan 3,GrowthPlan,GrowthPlan            1\n",
       "GrowthPlan,GrowthPlan,GrowthPlan 2                         1\n",
       "GrowthPlan 3,GrowthPlan 2,Non-Sub                          1\n",
       "Non-Sub,GrowthPlan,Non-Sub                                 1\n",
       "GrowthPlan 3,GrowthPlan,GrowthPlan 3,GrowthPlan 3          1\n",
       "GrowthPlan 3,Non-Sub,Non-Sub                               1\n",
       "GrowthPlan,Non-Sub,Non-Sub                                 1\n",
       "Non-Sub,GrowthPlan 3,GrowthPlan 3                          1\n",
       "GrowthPlan 3,GrowthPlan,GrowthPlan 2                       1\n",
       "GrowthPlan 3,GrowthPlan,GrowthPlan                         1\n",
       "GrowthPlan,GrowthPlan 2,GrowthPlan                         1\n",
       "GrowthPlan 3,GrowthPlan 3,GrowthPlan 2,GrowthPlan 3        1\n",
       "Name: ITEM_SUB_TYPE, dtype: int64"
      ]
     },
     "execution_count": 29,
     "metadata": {},
     "output_type": "execute_result"
    }
   ],
   "source": [
    "sub3.ITEM_SUB_TYPE.value_counts()"
   ]
  },
  {
   "cell_type": "code",
   "execution_count": 30,
   "metadata": {
    "scrolled": true
   },
   "outputs": [
    {
     "data": {
      "text/html": [
       "<div>\n",
       "<style scoped>\n",
       "    .dataframe tbody tr th:only-of-type {\n",
       "        vertical-align: middle;\n",
       "    }\n",
       "\n",
       "    .dataframe tbody tr th {\n",
       "        vertical-align: top;\n",
       "    }\n",
       "\n",
       "    .dataframe thead th {\n",
       "        text-align: right;\n",
       "    }\n",
       "</style>\n",
       "<table border=\"1\" class=\"dataframe\">\n",
       "  <thead>\n",
       "    <tr style=\"text-align: right;\">\n",
       "      <th></th>\n",
       "      <th>TOTAL_ORDER_VALUE</th>\n",
       "      <th>TOTAL_ORDERS</th>\n",
       "    </tr>\n",
       "  </thead>\n",
       "  <tbody>\n",
       "    <tr>\n",
       "      <th>count</th>\n",
       "      <td>151836.000000</td>\n",
       "      <td>151836.000000</td>\n",
       "    </tr>\n",
       "    <tr>\n",
       "      <th>mean</th>\n",
       "      <td>408.063391</td>\n",
       "      <td>4.892371</td>\n",
       "    </tr>\n",
       "    <tr>\n",
       "      <th>std</th>\n",
       "      <td>378.234723</td>\n",
       "      <td>4.290529</td>\n",
       "    </tr>\n",
       "    <tr>\n",
       "      <th>min</th>\n",
       "      <td>-32.000000</td>\n",
       "      <td>1.000000</td>\n",
       "    </tr>\n",
       "    <tr>\n",
       "      <th>25%</th>\n",
       "      <td>158.000000</td>\n",
       "      <td>2.000000</td>\n",
       "    </tr>\n",
       "    <tr>\n",
       "      <th>50%</th>\n",
       "      <td>296.250000</td>\n",
       "      <td>3.000000</td>\n",
       "    </tr>\n",
       "    <tr>\n",
       "      <th>75%</th>\n",
       "      <td>553.000000</td>\n",
       "      <td>6.000000</td>\n",
       "    </tr>\n",
       "    <tr>\n",
       "      <th>max</th>\n",
       "      <td>5688.000000</td>\n",
       "      <td>61.000000</td>\n",
       "    </tr>\n",
       "  </tbody>\n",
       "</table>\n",
       "</div>"
      ],
      "text/plain": [
       "       TOTAL_ORDER_VALUE   TOTAL_ORDERS\n",
       "count      151836.000000  151836.000000\n",
       "mean          408.063391       4.892371\n",
       "std           378.234723       4.290529\n",
       "min           -32.000000       1.000000\n",
       "25%           158.000000       2.000000\n",
       "50%           296.250000       3.000000\n",
       "75%           553.000000       6.000000\n",
       "max          5688.000000      61.000000"
      ]
     },
     "execution_count": 30,
     "metadata": {},
     "output_type": "execute_result"
    }
   ],
   "source": [
    "sub3.describe()"
   ]
  },
  {
   "cell_type": "markdown",
   "metadata": {},
   "source": [
    "## Merge"
   ]
  },
  {
   "cell_type": "code",
   "execution_count": 31,
   "metadata": {
    "scrolled": true
   },
   "outputs": [
    {
     "name": "stdout",
     "output_type": "stream",
     "text": [
      "<class 'pandas.core.frame.DataFrame'>\n",
      "Index: 4014 entries, 01hookerville@gmail.com to zusette1950@yahoo.com\n",
      "Data columns (total 9 columns):\n",
      " #   Column                      Non-Null Count  Dtype         \n",
      "---  ------                      --------------  -----         \n",
      " 0   APPOINTMENT_BODY_DATE       4014 non-null   datetime64[ns]\n",
      " 1   APPOINTMENT_BODY_TYPE       4014 non-null   object        \n",
      " 2   APPOINTMENT_BODY_CALENDAR   4014 non-null   object        \n",
      " 3   FIRST_ORDER_AT              3036 non-null   datetime64[ns]\n",
      " 4   TOTAL_ORDER_VALUE           3036 non-null   float64       \n",
      " 5   TOTAL_ORDERS                3036 non-null   float64       \n",
      " 6   ITEM_GENDER                 3036 non-null   object        \n",
      " 7   ITEM_SUB_TYPE               3036 non-null   object        \n",
      " 8   ITEM_PRODUCT_CORE_CATEGORY  3036 non-null   object        \n",
      "dtypes: datetime64[ns](2), float64(2), object(5)\n",
      "memory usage: 313.6+ KB\n"
     ]
    }
   ],
   "source": [
    "sub = pd.merge(clean_acuity,sub3, how='left',on='EMAIL',copy=False)\n",
    "sub.info()"
   ]
  },
  {
   "cell_type": "code",
   "execution_count": 36,
   "metadata": {},
   "outputs": [
    {
     "data": {
      "text/plain": [
       "GrowthPlan      1386\n",
       "GrowthPlan 3    1066\n",
       "GrowthPlan 2     584\n",
       "Name: ITEM_SUB_TYPE, dtype: int64"
      ]
     },
     "execution_count": 36,
     "metadata": {},
     "output_type": "execute_result"
    }
   ],
   "source": [
    "# clean up item sub\n",
    "sub.loc[sub['ITEM_SUB_TYPE'] =='GrowthPlan,GrowthPlan']= 'GrowthPlan'\n",
    "sub.loc[sub['ITEM_SUB_TYPE'] =='GrowthPlan 3,GrowthPlan 3']= 'GrowthPlan 3'\n",
    "sub.loc[sub['ITEM_SUB_TYPE'] =='GrowthPlan,GrowthPlan 3']= 'GrowthPlan'\n",
    "sub.loc[sub['ITEM_SUB_TYPE'] =='GrowthPlan 2,GrowthPlan']= 'GrowthPlan 2'\n",
    "sub.loc[sub['ITEM_SUB_TYPE'] =='GrowthPlan 3,GrowthPlan 2']= 'GrowthPlan 3'\n",
    "sub.loc[sub['ITEM_SUB_TYPE'] =='GrowthPlan,GrowthPlan 2']= 'GrowthPlan'\n",
    "sub.loc[sub['ITEM_SUB_TYPE'] =='GrowthPlan 3,GrowthPlan']= 'GrowthPlan 3'\n",
    "sub.loc[sub['ITEM_SUB_TYPE'] =='GrowthPlan 2,GrowthPlan 2']= 'GrowthPlan 2'\n",
    "sub.loc[sub['ITEM_SUB_TYPE'] =='GrowthPlan 3,Non-Sub']= 'GrowthPlan 3'\n",
    "\n",
    "sub['ITEM_SUB_TYPE'].value_counts()"
   ]
  },
  {
   "cell_type": "code",
   "execution_count": 37,
   "metadata": {},
   "outputs": [
    {
     "data": {
      "text/plain": [
       "Women      1496\n",
       "Balance    1037\n",
       "Men         503\n",
       "Name: ITEM_PRODUCT_CORE_CATEGORY, dtype: int64"
      ]
     },
     "execution_count": 37,
     "metadata": {},
     "output_type": "execute_result"
    }
   ],
   "source": [
    "sub.loc[sub['ITEM_PRODUCT_CORE_CATEGORY'] =='Men,Men']= 'Men'\n",
    "sub.loc[sub['ITEM_PRODUCT_CORE_CATEGORY'] =='GrowthPlan']= 'Balance'\n",
    "sub.loc[sub['ITEM_PRODUCT_CORE_CATEGORY'] =='GrowthPlan 2']= 'Balance'\n",
    "sub.loc[sub['ITEM_PRODUCT_CORE_CATEGORY'] =='GrowthPlan 3']= 'Balance'\n",
    "\n",
    "sub['ITEM_PRODUCT_CORE_CATEGORY'].value_counts()"
   ]
  },
  {
   "cell_type": "code",
   "execution_count": 38,
   "metadata": {},
   "outputs": [],
   "source": [
    "# Export data\n",
    "sub.to_csv('sub.csv')"
   ]
  },
  {
   "cell_type": "code",
   "execution_count": 39,
   "metadata": {},
   "outputs": [
    {
     "data": {
      "text/html": [
       "<div>\n",
       "<style scoped>\n",
       "    .dataframe tbody tr th:only-of-type {\n",
       "        vertical-align: middle;\n",
       "    }\n",
       "\n",
       "    .dataframe tbody tr th {\n",
       "        vertical-align: top;\n",
       "    }\n",
       "\n",
       "    .dataframe thead th {\n",
       "        text-align: right;\n",
       "    }\n",
       "</style>\n",
       "<table border=\"1\" class=\"dataframe\">\n",
       "  <thead>\n",
       "    <tr style=\"text-align: right;\">\n",
       "      <th></th>\n",
       "      <th>APPOINTMENT_BODY_DATE</th>\n",
       "      <th>APPOINTMENT_BODY_TYPE</th>\n",
       "      <th>APPOINTMENT_BODY_CALENDAR</th>\n",
       "      <th>FIRST_ORDER_AT</th>\n",
       "      <th>TOTAL_ORDER_VALUE</th>\n",
       "      <th>TOTAL_ORDERS</th>\n",
       "      <th>ITEM_GENDER</th>\n",
       "      <th>ITEM_SUB_TYPE</th>\n",
       "      <th>ITEM_PRODUCT_CORE_CATEGORY</th>\n",
       "    </tr>\n",
       "  </thead>\n",
       "  <tbody>\n",
       "    <tr>\n",
       "      <th>count</th>\n",
       "      <td>4014</td>\n",
       "      <td>4014</td>\n",
       "      <td>4014</td>\n",
       "      <td>3036</td>\n",
       "      <td>3036.0</td>\n",
       "      <td>3036.0</td>\n",
       "      <td>3036</td>\n",
       "      <td>3036</td>\n",
       "      <td>3036</td>\n",
       "    </tr>\n",
       "    <tr>\n",
       "      <th>unique</th>\n",
       "      <td>128</td>\n",
       "      <td>4</td>\n",
       "      <td>12</td>\n",
       "      <td>3011</td>\n",
       "      <td>687.0</td>\n",
       "      <td>28.0</td>\n",
       "      <td>3</td>\n",
       "      <td>5</td>\n",
       "      <td>3</td>\n",
       "    </tr>\n",
       "    <tr>\n",
       "      <th>top</th>\n",
       "      <td>2020-11-12 00:00:00</td>\n",
       "      <td>Hair Consultation</td>\n",
       "      <td>Dr. Ariana Zastrow, ND</td>\n",
       "      <td>Balance</td>\n",
       "      <td>158.0</td>\n",
       "      <td>2.0</td>\n",
       "      <td>Women</td>\n",
       "      <td>GrowthPlan</td>\n",
       "      <td>Women</td>\n",
       "    </tr>\n",
       "    <tr>\n",
       "      <th>freq</th>\n",
       "      <td>76</td>\n",
       "      <td>3532</td>\n",
       "      <td>708</td>\n",
       "      <td>25</td>\n",
       "      <td>134.0</td>\n",
       "      <td>601.0</td>\n",
       "      <td>2508</td>\n",
       "      <td>1372</td>\n",
       "      <td>1496</td>\n",
       "    </tr>\n",
       "  </tbody>\n",
       "</table>\n",
       "</div>"
      ],
      "text/plain": [
       "       APPOINTMENT_BODY_DATE APPOINTMENT_BODY_TYPE APPOINTMENT_BODY_CALENDAR  \\\n",
       "count                   4014                  4014                      4014   \n",
       "unique                   128                     4                        12   \n",
       "top      2020-11-12 00:00:00     Hair Consultation   Dr. Ariana Zastrow, ND    \n",
       "freq                      76                  3532                       708   \n",
       "\n",
       "       FIRST_ORDER_AT  TOTAL_ORDER_VALUE  TOTAL_ORDERS ITEM_GENDER  \\\n",
       "count            3036             3036.0        3036.0        3036   \n",
       "unique           3011              687.0          28.0           3   \n",
       "top           Balance              158.0           2.0       Women   \n",
       "freq               25              134.0         601.0        2508   \n",
       "\n",
       "       ITEM_SUB_TYPE ITEM_PRODUCT_CORE_CATEGORY  \n",
       "count           3036                       3036  \n",
       "unique             5                          3  \n",
       "top       GrowthPlan                      Women  \n",
       "freq            1372                       1496  "
      ]
     },
     "execution_count": 39,
     "metadata": {},
     "output_type": "execute_result"
    }
   ],
   "source": [
    "sub.describe()"
   ]
  },
  {
   "cell_type": "code",
   "execution_count": null,
   "metadata": {},
   "outputs": [],
   "source": []
  },
  {
   "cell_type": "code",
   "execution_count": null,
   "metadata": {},
   "outputs": [],
   "source": []
  }
 ],
 "metadata": {
  "kernelspec": {
   "display_name": "Python 3",
   "language": "python",
   "name": "python3"
  },
  "language_info": {
   "codemirror_mode": {
    "name": "ipython",
    "version": 3
   },
   "file_extension": ".py",
   "mimetype": "text/x-python",
   "name": "python",
   "nbconvert_exporter": "python",
   "pygments_lexer": "ipython3",
   "version": "3.7.9"
  },
  "toc": {
   "base_numbering": 1,
   "nav_menu": {},
   "number_sections": true,
   "sideBar": true,
   "skip_h1_title": false,
   "title_cell": "Table of Contents",
   "title_sidebar": "Contents",
   "toc_cell": false,
   "toc_position": {
    "height": "calc(100% - 180px)",
    "left": "10px",
    "top": "150px",
    "width": "235.75px"
   },
   "toc_section_display": true,
   "toc_window_display": true
  }
 },
 "nbformat": 4,
 "nbformat_minor": 2
}
